{
  "cells": [
    {
      "cell_type": "code",
      "execution_count": 1,
      "metadata": {
        "colab": {
          "base_uri": "https://localhost:8080/"
        },
        "id": "1V_glxv-sQ7S",
        "outputId": "842dc181-db39-4b00-ec47-bd29eb4a292b"
      },
      "outputs": [
        {
          "name": "stdout",
          "output_type": "stream",
          "text": [
            "Mounted at /content/drive\n"
          ]
        }
      ],
      "source": [
        "from google.colab import drive\n",
        "drive.mount('/content/drive')"
      ]
    },
    {
      "cell_type": "code",
      "execution_count": 2,
      "metadata": {
        "id": "NCPGYLnfsfCt"
      },
      "outputs": [],
      "source": [
        "import re\n",
        "import pickle\n",
        "import numpy as np\n",
        "import time\n",
        "import random\n",
        "import joblib\n",
        "import matplotlib.pyplot as plt\n",
        "\n",
        "from keras.preprocessing.text import Tokenizer\n",
        "from gensim.models import Word2Vec\n",
        "from sklearn.feature_extraction.text import TfidfVectorizer\n",
        "from keras.models import Model\n",
        "from tensorflow.keras.layers import Input\n",
        "from keras.layers import Embedding, Dense, Dropout, LSTM, Bidirectional, TimeDistributed, InputLayer\n",
        "from tensorflow.keras.models import Sequential\n",
        "from keras.optimizers import Adam\n",
        "from keras.utils import Sequence\n",
        "from keras.initializers import glorot_normal\n",
        "from keras.callbacks import ModelCheckpoint"
      ]
    },
    {
      "cell_type": "code",
      "execution_count": 3,
      "metadata": {
        "colab": {
          "base_uri": "https://localhost:8080/"
        },
        "id": "wfXJ-UcztpaD",
        "outputId": "d19ab0d1-94d9-451d-e4f8-9055ff55b97b"
      },
      "outputs": [
        {
          "name": "stderr",
          "output_type": "stream",
          "text": [
            "WARNING:tensorflow:From <ipython-input-3-277be1330e1a>:2: is_gpu_available (from tensorflow.python.framework.test_util) is deprecated and will be removed in a future version.\n",
            "Instructions for updating:\n",
            "Use `tf.config.list_physical_devices('GPU')` instead.\n"
          ]
        },
        {
          "name": "stdout",
          "output_type": "stream",
          "text": [
            "GPU available: True\n",
            "GPU device name: /device:GPU:0\n"
          ]
        }
      ],
      "source": [
        "import tensorflow as tf\n",
        "print(\"GPU available:\", tf.test.is_gpu_available())\n",
        "print(\"GPU device name:\", tf.test.gpu_device_name())"
      ]
    },
    {
      "cell_type": "code",
      "execution_count": 4,
      "metadata": {
        "colab": {
          "base_uri": "https://localhost:8080/"
        },
        "id": "40x1iLqltvac",
        "outputId": "5cea110d-a7d9-41ea-970e-a94f13224045"
      },
      "outputs": [
        {
          "name": "stdout",
          "output_type": "stream",
          "text": [
            "Training data length: 50000\n",
            "Validation data length: 2500\n"
          ]
        }
      ],
      "source": [
        "with open('/content/drive/My Drive/NLPdata/train.txt','r') as file:\n",
        "    train_data = file.readlines()\n",
        "\n",
        "val_data_raw = None\n",
        "with open('/content/drive/My Drive/NLPdata/val.txt','r') as file:\n",
        "    val_data = file.readlines()\n",
        "print('Training data length:', len(train_data))\n",
        "print('Validation data length:', len(val_data))"
      ]
    },
    {
      "cell_type": "code",
      "execution_count": 5,
      "metadata": {
        "id": "-XwE5IuntvwK"
      },
      "outputs": [],
      "source": [
        "diacritics = ['َ', 'ً', 'ُ', 'ٌ', 'ِ', 'ٍ', 'ْ', 'ّ', 'َّ', 'ًّ', 'ُّ', 'ٌّ', 'ِّ', 'ٍّ', '']\n",
        "\n",
        "arabic_chars = ['ئ', 'ط', 'ه', 'ك', 'ض', 'ج', 'ذ', 'ع', 'ب', 'ل', 'د', 'ت', 'ا', 'ث', 'أ', 'س', 'ق', 'م', 'ش', 'ز', 'غ', 'ى', 'إ', 'خ', 'ن', 'آ', 'ؤ', 'ي', 'ظ', 'ص', 'ح', 'ة', 'و', 'ر', 'ء', 'ف']\n",
        "arabic_chars_space = list(arabic_chars) + [' ']\n",
        "arabic_chars_valid = list(arabic_chars) + [' '] + diacritics\n",
        "\n",
        "# char_mapping = {' ': 0,\n",
        "#     'ا': 1, 'ب': 2, 'ت': 3, 'ث': 4, 'ج': 5, 'ح': 6, 'خ': 7, 'د': 8, 'ذ': 9, 'ر': 10, 'ز': 11, 'س': 12, 'ش': 13, 'ص': 14,\n",
        "#     'ض': 15, 'ط': 16, 'ظ': 17, 'ع': 18, 'غ': 19, 'ف': 20, 'ق': 21, 'ك': 22, 'ل': 23, 'م': 24, 'ن': 25, 'ه': 26, 'و': 27,\n",
        "#     'ى': 28, 'ي': 29,'ء': 30, 'آ': 31, 'أ': 32, 'ؤ': 33, 'إ': 34, 'ئ': 35,'ة': 36,\n",
        "#     '٠': 37, '١': 38, '٢': 39, '٣': 40, '٤': 41, '٥': 42, '٦': 43, '٧': 44, '٨': 45, '٩': 46,\n",
        "#     '0': 47, '1': 48, '2': 49, '3': 50, '4': 51, '5': 52, '6': 53,'7': 54, '8': 55, '9': 56,\n",
        "#     '<pad>': 57, '<s>': 58, '</s>': 59\n",
        "# }\n",
        "\n",
        "char_mapping = {' ': 0,\n",
        "    'ا': 1, 'ب': 2, 'ت': 3, 'ث': 4, 'ج': 5, 'ح': 6, 'خ': 7, 'د': 8, 'ذ': 9, 'ر': 10, 'ز': 11, 'س': 12, 'ش': 13, 'ص': 14,\n",
        "    'ض': 15, 'ط': 16, 'ظ': 17, 'ع': 18, 'غ': 19, 'ف': 20, 'ق': 21, 'ك': 22, 'ل': 23, 'م': 24, 'ن': 25, 'ه': 26, 'و': 27,\n",
        "    'ى': 28, 'ي': 29,'ء': 30, 'آ': 31, 'أ': 32, 'ؤ': 33, 'إ': 34, 'ئ': 35,'ة': 36,\n",
        "    '٠': 37, '١': 38, '٢': 39, '٣': 40, '٤': 41, '٥': 42, '٦': 43, '٧': 44, '٨': 45, '٩': 46,\n",
        "    '0': 47, '1': 48, '2': 49, '3': 50, '4': 51, '5': 52, '6': 53,'7': 54, '8': 55, '9': 56,\n",
        "    '<pad>': 57, '<s>': 58, '</s>': 59,\n",
        "   '.':60,',':61,'،': 62,':':63,';':64,'؛':65,'(':66,')':67,'[': 68,']':69,'{': 70,'}': 71,'«': 72,'»': 73,'-': 74, '!': 75, '?': 76,'؟': 77,\n",
        "    '\\n': 78, '\"': 79, '&': 80, \"'\": 81, '*': 82, '+': 83, '/': 84, '=': 85,  '_': 86, '`': 87, '~': 88,'\\u200d': 89, '\\u200f': 90, '–': 91,\n",
        "    '’': 92, '“': 93, '…': 94, '﴾': 95, '﴿': 96\n",
        "}\n",
        "\n",
        "class_mapping = {'َ': 0, 'ً': 1, 'ُ': 2, 'ٌ': 3, 'ِ': 4, 'ٍ': 5, 'ْ': 6, 'ّ': 7, 'َّ': 8, 'ًّ':\n",
        "9, 'ُّ': 10, 'ٌّ': 11, 'ِّ': 12, 'ٍّ': 13, '': 14}\n",
        "\n",
        "reverse_class_mapping = {0:'َ', 1:'ً', 2:'ُ', 3:'ٌ', 4:'ِ', 5:'ٍ', 6:'ْ',7:'ّ',8: 'َّ',9: 'ًّ',10: 'ُّ',11: 'ٌّ',12: 'ِّ',13: 'ٍّ',14: ''}\n",
        "\n",
        "\n",
        "punctionations_splitting ={'.':'.\\n',',':',\\n','،': '،\\n',':':':\\n',';':';\\n','؛':'؛\\n','(':'\\n(',')':')\\n',\n",
        "                           '[': '\\n[',']':']\\n','{': '\\n{','}': '}\\n','«': '\\n«','»': '»\\n',\n",
        "                           '-': '-\\n', '!': '!\\n', '?': '?\\n', '؟': '؟\\n',}"
      ]
    },
    {
      "cell_type": "code",
      "execution_count": 6,
      "metadata": {
        "colab": {
          "base_uri": "https://localhost:8080/"
        },
        "id": "cSGjfNqsufow",
        "outputId": "8cda6b12-936e-422b-fd72-d3113d8dbfce"
      },
      "outputs": [
        {
          "name": "stdout",
          "output_type": "stream",
          "text": [
            "قوله : ( أو قطع الأول يده إلخ ) قال الزركشي\n"
          ]
        }
      ],
      "source": [
        "def remove_diacritics(data):\n",
        "    return data.translate(str.maketrans('', '', ''.join(diacritics)))\n",
        "\n",
        "test_str = 'قَوْلُهُ : ( أَوْ قَطَعَ الْأَوَّلُ يَدَهُ إلَخْ ) قَالَ الزَّرْكَشِيُّ'\n",
        "print(remove_diacritics(test_str))\n"
      ]
    },
    {
      "cell_type": "code",
      "execution_count": 7,
      "metadata": {
        "colab": {
          "base_uri": "https://localhost:8080/"
        },
        "id": "vndJkMMtusfV",
        "outputId": "224fc322-8f4a-4e10-a1f6-4038efa0d5f7"
      },
      "outputs": [
        {
          "name": "stdout",
          "output_type": "stream",
          "text": [
            "[[1, 0, 0, 0], [0, 1, 0, 0], [0, 0, 1, 0], [0, 0, 0, 1]]\n"
          ]
        }
      ],
      "source": [
        "def one_hot_matrix(data, size):\n",
        "    one_hot_matrix = [[1 if j == i else 0 for j in range(size)] for i in data]\n",
        "    return one_hot_matrix\n",
        "\n",
        "test = [0,1,2,3]\n",
        "print(one_hot_matrix(test, 4))"
      ]
    },
    {
      "cell_type": "code",
      "execution_count": 8,
      "metadata": {
        "colab": {
          "base_uri": "https://localhost:8080/"
        },
        "id": "xh7FrHSIusiN",
        "outputId": "bf27ca45-0f9f-4470-c684-a65bfb7b95cd"
      },
      "outputs": [
        {
          "data": {
            "text/plain": [
              "[0, 1, 0, 0, 0]"
            ]
          },
          "execution_count": 8,
          "metadata": {},
          "output_type": "execute_result"
        }
      ],
      "source": [
        "def one_hot_vector(index , size):\n",
        "    one_hot_vector = [1 if j == index else 0 for j in range(size)]\n",
        "    return one_hot_vector\n",
        "\n",
        "one_hot_vector(1,5)"
      ]
    },
    {
      "cell_type": "code",
      "execution_count": 9,
      "metadata": {
        "colab": {
          "base_uri": "https://localhost:8080/"
        },
        "id": "20NPdg4Jusk9",
        "outputId": "4bb20e79-7d7d-4832-99f9-09a8b1d9d746"
      },
      "outputs": [
        {
          "name": "stdout",
          "output_type": "stream",
          "text": [
            "['قَوْلُهُ :', ' ', '( أَوْ قَطَعَ الْأَوَّلُ يَدَهُ إلَخْ )', ' قَالَ الزَّرْكَشِيُّ', '( 14 / 123 )', '', '', 'ابْنُ عَرَفَةَ :', ' قَوْلُهُ :', ' بِلَفْظٍ يَقْتَضِيه كَإِنْكَارِ غَيْرِ حَدِيثٍ بِالْإِسْلَامِ وُجُوبَ مَا عُلِمَ وُجُوبُهُ مِنْ الدِّينِ ضَرُورَةً ', '( كَإِلْقَاءِ مُصْحَفٍ بِقَذَرٍ وَشَدِّ زُنَّارٍ )', ' ابْنُ عَرَفَةَ :', ' قَوْلُ ابْنِ شَاسٍ :', ' أَوْ بِفِعْلٍ يَتَضَمَّنُهُ هُوَ كَلُبْسِ الزُّنَّارِ وَإِلْقَاءِ الْمُصْحَفِ فِي صَرِيحِ النَّجَاسَةِ وَالسُّجُودِ لِلصَّنَمِ وَنَحْوِ ذَلِكَ ', '( وَسِحْرٍ )', ' مُحَمَّدٌ :', ' قَوْلُ مَالِكٍ وَأَصْحَابِهِ أَنَّ السَّاحِرَ كَافِرٌ بِاَللَّهِ تَعَالَى قَالَ مَالِكٌ :', ' هُوَ كَالزِّنْدِيقِ إذَا عَمِلَ السِّحْرَ بِنَفْسِهِ قُتِلَ وَلَمْ يُسْتَتَبْ .', '', '']\n"
          ]
        }
      ],
      "source": [
        "def split_using_punctuation(data):\n",
        "\n",
        "  splitted_data = list()\n",
        "\n",
        "  for sentence in data:\n",
        "        for punc in punctionations_splitting:\n",
        "          sentence = sentence.replace(punc, punctionations_splitting[punc])\n",
        "        splitted_data += sentence.split('\\n')\n",
        "\n",
        "  return splitted_data\n",
        "\n",
        "print(split_using_punctuation(train_data[0:2]))"
      ]
    },
    {
      "cell_type": "code",
      "execution_count": 10,
      "metadata": {
        "id": "AXXCgm2Rusoh"
      },
      "outputs": [],
      "source": [
        "def split_on_length(data):\n",
        "\n",
        "    max_len = 500\n",
        "\n",
        "    splitted_data = list()\n",
        "\n",
        "    for sentence in data:\n",
        "\n",
        "       new_sentence = remove_diacritics(sentence).strip()\n",
        "\n",
        "       if len(new_sentence) != 0:\n",
        "\n",
        "          if len(new_sentence) > 0 and len(new_sentence) <= max_len:\n",
        "                  splitted_data.append(sentence.strip())\n",
        "\n",
        "          else:\n",
        "            sentence_words = sentence.split()\n",
        "            temp_sentence = ''\n",
        "\n",
        "            for word in sentence_words:\n",
        "\n",
        "\n",
        "              # if we add the word, it will exceed length, so don't add this word and take the sentence\n",
        "              if len(remove_diacritics(temp_sentence).strip()) + len(remove_diacritics(word).strip()) + 1 > max_len:\n",
        "                  if len(remove_diacritics(temp_sentence).strip()) > 0:\n",
        "                      splitted_data.append(temp_sentence.strip())\n",
        "\n",
        "                  # make a new sentence\n",
        "                  temp_sentence = word\n",
        "\n",
        "              else:\n",
        "                  # it will not exceed, add the word to the sentence\n",
        "                  temp_sentence = word if temp_sentence == '' else temp_sentence + ' ' + word\n",
        "\n",
        "            if len(remove_diacritics(temp_sentence).strip()) > 0:\n",
        "                  splitted_data.append(temp_sentence.strip())\n",
        "\n",
        "    return splitted_data"
      ]
    },
    {
      "cell_type": "code",
      "execution_count": 11,
      "metadata": {
        "colab": {
          "base_uri": "https://localhost:8080/"
        },
        "id": "Y_tYb1WMus81",
        "outputId": "4dbc3ee9-ac22-4222-8341-c138d6428b8a"
      },
      "outputs": [
        {
          "name": "stdout",
          "output_type": "stream",
          "text": [
            "Training data length: 305772\n",
            "Validation data length: 15701\n",
            "['قَوْلُهُ :', '( أَوْ قَطَعَ الْأَوَّلُ يَدَهُ إلَخْ )', 'قَالَ الزَّرْكَشِيُّ', '( 14 / 123 )', 'ابْنُ عَرَفَةَ :']\n"
          ]
        }
      ],
      "source": [
        "split_punctuation_train_data = split_using_punctuation(train_data)\n",
        "split_length_train_data      = split_on_length(split_punctuation_train_data)\n",
        "\n",
        "split_punctuation_val_data = split_using_punctuation(val_data)\n",
        "split_length_val_data      = split_on_length(split_punctuation_val_data)\n",
        "\n",
        "\n",
        "print('Training data length:', len(split_length_train_data))\n",
        "print('Validation data length:', len(split_length_val_data))\n",
        "\n",
        "print(split_length_train_data[0:5])"
      ]
    },
    {
      "cell_type": "code",
      "execution_count": 12,
      "metadata": {
        "colab": {
          "base_uri": "https://localhost:8080/"
        },
        "id": "c1oJP26F6zUs",
        "outputId": "09bfd1dd-1b69-48f9-98b1-7b7af45f8449"
      },
      "outputs": [
        {
          "name": "stdout",
          "output_type": "stream",
          "text": [
            "Training data max: 500\n",
            "Validation data max: 500\n",
            "Training data min: 1\n",
            "Validation data min: 1\n"
          ]
        }
      ],
      "source": [
        "print('Training data max:', max(len(remove_diacritics(item).strip()) for item in split_length_train_data))\n",
        "print('Validation data max:', max(len(remove_diacritics(item).strip()) for item in split_length_val_data))\n",
        "\n",
        "print('Training data min:', min(len(remove_diacritics(item).strip()) for item in split_length_train_data))\n",
        "print('Validation data min:', min(len(remove_diacritics(item).strip()) for item in split_length_val_data))"
      ]
    },
    {
      "cell_type": "code",
      "execution_count": 13,
      "metadata": {
        "colab": {
          "base_uri": "https://localhost:8080/"
        },
        "id": "EzmpvsrQ7FX8",
        "outputId": "084f8dce-5628-45f8-80e9-4963bd50bd15"
      },
      "outputs": [
        {
          "name": "stdout",
          "output_type": "stream",
          "text": [
            "Training data length: 280228\n",
            "Validation data length: 14385\n",
            "['قَوْلُهُ', 'أَوْ قَطَعَ الْأَوَّلُ يَدَهُ إلَخْ', 'قَالَ الزَّرْكَشِيُّ', 'ابْنُ عَرَفَةَ', 'قَوْلُهُ']\n"
          ]
        }
      ],
      "source": [
        "# list of short sentences -> with diarictic & without punc or numbers\n",
        "clean_diac_train_data = [(''.join(char for char in text if char in arabic_chars_valid)).strip() for text in split_length_train_data]\n",
        "clean_diac_val_data = [(''.join(char for char in text if char in arabic_chars_valid)).strip() for text in split_length_val_data]\n",
        "\n",
        "clean_diac_train_data = [item for item in clean_diac_train_data if item != \"\"]\n",
        "clean_diac_val_data = [item for item in clean_diac_val_data if item != \"\"]\n",
        "\n",
        "print('Training data length:', len(clean_diac_train_data))\n",
        "print('Validation data length:', len(clean_diac_val_data))\n",
        "\n",
        "print(clean_diac_train_data[0:5])"
      ]
    },
    {
      "cell_type": "code",
      "execution_count": 14,
      "metadata": {
        "colab": {
          "base_uri": "https://localhost:8080/"
        },
        "id": "i8P_CYiS7FhM",
        "outputId": "85d70de8-3392-4ba1-b899-c9cc68c114de"
      },
      "outputs": [
        {
          "name": "stdout",
          "output_type": "stream",
          "text": [
            "Training data length: 280228\n",
            "Validation data length: 14385\n",
            "['قوله', 'أو قطع الأول يده إلخ', 'قال الزركشي', 'ابن عرفة', 'قوله']\n"
          ]
        }
      ],
      "source": [
        "# list of short sentences -> without diarictic & without punc or numbers\n",
        "\n",
        "clean_train_data = [remove_diacritics(text) for text in clean_diac_train_data]\n",
        "clean_val_data = [remove_diacritics(text) for text in clean_diac_val_data]\n",
        "\n",
        "print('Training data length:', len(clean_train_data))\n",
        "print('Validation data length:', len(clean_val_data))\n",
        "\n",
        "print(clean_train_data[0:5])"
      ]
    },
    {
      "cell_type": "code",
      "execution_count": 15,
      "metadata": {
        "id": "VsQRnTjW9u97"
      },
      "outputs": [],
      "source": [
        "def get_sentence_classes(sentence):\n",
        "\n",
        "  x = []\n",
        "  y = []\n",
        "\n",
        "  x.append(char_mapping['<s>'])\n",
        "  y.append(one_hot_vector(class_mapping[''],len(class_mapping)))\n",
        "\n",
        "  for index, char in enumerate(sentence):\n",
        "\n",
        "    if char not in diacritics: # arabic char or space\n",
        "\n",
        "      x.append(char_mapping[char])\n",
        "\n",
        "      char_diacritic = ''\n",
        "      sentence_len = len(sentence)\n",
        "\n",
        "      if index + 1 < sentence_len:\n",
        "        if sentence[index + 1] in diacritics:\n",
        "          char_diacritic = sentence[index + 1]\n",
        "\n",
        "          if index + 2 < sentence_len:\n",
        "            char_diacritic = char_diacritic + sentence[index + 2] if sentence[index + 2] in diacritics and (char_diacritic + sentence[index + 2] in class_mapping) else sentence[index + 2] + char_diacritic if sentence[index + 2] in diacritics and (sentence[index + 2] + char_diacritic in class_mapping) else char_diacritic\n",
        "\n",
        "      y.append(one_hot_vector(class_mapping[char_diacritic],len(class_mapping)))\n",
        "\n",
        "  x.append(char_mapping['</s>'])\n",
        "  y.append(one_hot_vector(class_mapping[''],len(class_mapping)))\n",
        "\n",
        "  assert(len(x) == len(y))\n",
        "\n",
        "  return x, y"
      ]
    },
    {
      "cell_type": "code",
      "execution_count": 16,
      "metadata": {
        "id": "8JiiRaP69vE8"
      },
      "outputs": [],
      "source": [
        "def get_classes(data):\n",
        "\n",
        "  X = []\n",
        "  Y = []\n",
        "\n",
        "  for sentence in data:\n",
        "    x, y = get_sentence_classes(sentence)\n",
        "    X.append(x)\n",
        "    Y.append(y)\n",
        "\n",
        "  X = np.asarray(X)\n",
        "  Y = np.asarray(Y)\n",
        "\n",
        "  return X, Y"
      ]
    },
    {
      "cell_type": "code",
      "execution_count": 17,
      "metadata": {
        "colab": {
          "base_uri": "https://localhost:8080/"
        },
        "id": "HoD49_mQFR_4",
        "outputId": "c0678565-f24d-416d-fe3f-0a6c4c31ceb9"
      },
      "outputs": [
        {
          "name": "stdout",
          "output_type": "stream",
          "text": [
            "['قَوْلُهُ', 'أَوْ قَطَعَ الْأَوَّلُ يَدَهُ إلَخْ', 'قَالَ الزَّرْكَشِيُّ', 'ابْنُ عَرَفَةَ', 'قَوْلُهُ']\n",
            "(5,)\n",
            "(5,)\n",
            "6\n",
            "6\n"
          ]
        },
        {
          "name": "stderr",
          "output_type": "stream",
          "text": [
            "<ipython-input-16-0c49e0fe44f8>:11: VisibleDeprecationWarning: Creating an ndarray from ragged nested sequences (which is a list-or-tuple of lists-or-tuples-or ndarrays with different lengths or shapes) is deprecated. If you meant to do this, you must specify 'dtype=object' when creating the ndarray.\n",
            "  X = np.asarray(X)\n",
            "<ipython-input-16-0c49e0fe44f8>:12: VisibleDeprecationWarning: Creating an ndarray from ragged nested sequences (which is a list-or-tuple of lists-or-tuples-or ndarrays with different lengths or shapes) is deprecated. If you meant to do this, you must specify 'dtype=object' when creating the ndarray.\n",
            "  Y = np.asarray(Y)\n"
          ]
        }
      ],
      "source": [
        "print(clean_diac_train_data[0:5])\n",
        "\n",
        "X,Y = get_classes(clean_diac_train_data[0:5])\n",
        "\n",
        "print(X.shape)\n",
        "print(Y.shape)\n",
        "print(len(X[0]))\n",
        "print(len(Y[0]))"
      ]
    },
    {
      "cell_type": "code",
      "execution_count": 18,
      "metadata": {
        "id": "a3uKzrFn7FqL"
      },
      "outputs": [],
      "source": [
        "class custom_data_generator(Sequence):\n",
        "\n",
        "    def __init__(self, data, batch_size):\n",
        "        self.data = data\n",
        "        self.batch_size = batch_size\n",
        "        # self.vec_len = 391\n",
        "\n",
        "    def __len__(self):\n",
        "        return int(np.ceil(len(self.data) / float(self.batch_size)))\n",
        "\n",
        "    def __getitem__(self, index):\n",
        "\n",
        "        start_index = index * self.batch_size\n",
        "        end_index = (index + 1) * self.batch_size\n",
        "\n",
        "        batch = self.data[start_index : end_index]\n",
        "        X_batch, Y_batch = get_classes(batch)\n",
        "\n",
        "        max_length_X = np.max([len(x) for x in X_batch])\n",
        "        max_length_Y = np.max([len(y) for y in Y_batch])\n",
        "\n",
        "        assert(max_length_X == max_length_Y)\n",
        "\n",
        "        X = []\n",
        "        for x in X_batch:\n",
        "          padding_length = max_length_X - len(x)\n",
        "          x = list(x)\n",
        "          x.extend([char_mapping['<pad>']] * (padding_length))\n",
        "          X.append(np.asarray(x))\n",
        "\n",
        "        Y = []\n",
        "        for y in Y_batch:\n",
        "          padding_length = max_length_Y - len(y)\n",
        "          y = list(y)\n",
        "          y.extend([one_hot_vector(class_mapping[''],len(class_mapping))] * (padding_length))\n",
        "          Y.append(np.asarray(y))\n",
        "\n",
        "        X, Y = np.asarray(X), np.asarray(Y)\n",
        "\n",
        "        # print('===================================> X:', X.shape)\n",
        "        # print('===================================> Y:', Y.shape)\n",
        "\n",
        "        return X, Y"
      ]
    },
    {
      "cell_type": "code",
      "execution_count": 19,
      "metadata": {
        "id": "QJcefM6QSFRa"
      },
      "outputs": [],
      "source": [
        "def build_model():\n",
        "\n",
        "   model = Sequential()\n",
        "  #  model.add(InputLayer(input_shape=(None, len(char_mapping))))\n",
        "\n",
        "   model.add( Embedding(input_dim=len(char_mapping),output_dim=25,embeddings_initializer=glorot_normal(seed=500)))\n",
        "\n",
        "   model.add(Bidirectional(LSTM(units=256,return_sequences=True,kernel_initializer=glorot_normal(seed=500))))\n",
        "   model.add(Dropout(0.5))\n",
        "   model.add(Bidirectional(LSTM(units=256,return_sequences=True,kernel_initializer=glorot_normal(seed=500))))\n",
        "   model.add(Dropout(0.5))\n",
        "   model.add(Bidirectional(LSTM(units=256,return_sequences=True,kernel_initializer=glorot_normal(seed=500))))\n",
        "   model.add(TimeDistributed(Dense(units=512,activation='relu',kernel_initializer=glorot_normal(seed=500))))\n",
        "   model.add(TimeDistributed(Dense(units=512,activation='relu',kernel_initializer=glorot_normal(seed=500))))\n",
        "   model.add(TimeDistributed(Dense(units=len(class_mapping),activation='softmax',kernel_initializer=glorot_normal(seed=500))))\n",
        "   model.compile(loss='categorical_crossentropy', optimizer=Adam(), metrics=['accuracy'])\n",
        "   return model"
      ]
    },
    {
      "cell_type": "code",
      "execution_count": 20,
      "metadata": {
        "colab": {
          "base_uri": "https://localhost:8080/"
        },
        "id": "QKdOlRTsUvfN",
        "outputId": "5cf05055-2216-46bf-8caf-5a5b82b5952e"
      },
      "outputs": [
        {
          "name": "stdout",
          "output_type": "stream",
          "text": [
            "Model: \"sequential\"\n",
            "_________________________________________________________________\n",
            " Layer (type)                Output Shape              Param #   \n",
            "=================================================================\n",
            " embedding (Embedding)       (None, None, 25)          2425      \n",
            "                                                                 \n",
            " bidirectional (Bidirection  (None, None, 512)         577536    \n",
            " al)                                                             \n",
            "                                                                 \n",
            " dropout (Dropout)           (None, None, 512)         0         \n",
            "                                                                 \n",
            " bidirectional_1 (Bidirecti  (None, None, 512)         1574912   \n",
            " onal)                                                           \n",
            "                                                                 \n",
            " dropout_1 (Dropout)         (None, None, 512)         0         \n",
            "                                                                 \n",
            " bidirectional_2 (Bidirecti  (None, None, 512)         1574912   \n",
            " onal)                                                           \n",
            "                                                                 \n",
            " time_distributed (TimeDist  (None, None, 512)         262656    \n",
            " ributed)                                                        \n",
            "                                                                 \n",
            " time_distributed_1 (TimeDi  (None, None, 512)         262656    \n",
            " stributed)                                                      \n",
            "                                                                 \n",
            " time_distributed_2 (TimeDi  (None, None, 15)          7695      \n",
            " stributed)                                                      \n",
            "                                                                 \n",
            "=================================================================\n",
            "Total params: 4262792 (16.26 MB)\n",
            "Trainable params: 4262792 (16.26 MB)\n",
            "Non-trainable params: 0 (0.00 Byte)\n",
            "_________________________________________________________________\n"
          ]
        }
      ],
      "source": [
        "model = build_model()\n",
        "model.summary()"
      ]
    },
    {
      "cell_type": "code",
      "execution_count": 21,
      "metadata": {
        "id": "znC0M3mTU-cz"
      },
      "outputs": [],
      "source": [
        "def fit_model(model, epochs, batch_size, train_data, val_data):\n",
        "\n",
        "    random.shuffle(train_data)\n",
        "    random.shuffle(val_data)\n",
        "\n",
        "    train_data = list(sorted(train_data, key=lambda item: len(remove_diacritics(item))))\n",
        "    val_data   = list(sorted(val_data,   key=lambda item: len(remove_diacritics(item))))\n",
        "\n",
        "    checkpoint_path = '/content/drive/My Drive/NLPdata/checkpoints/epoch{epoch:02d}.ckpt'\n",
        "    checkpoint_cb = ModelCheckpoint(checkpoint_path, verbose=0)\n",
        "\n",
        "    training_generator = custom_data_generator(train_data, batch_size)\n",
        "    val_generator = custom_data_generator(val_data, batch_size)\n",
        "\n",
        "    history =  model.fit(training_generator,validation_data=val_generator,epochs=epochs,callbacks=[checkpoint_cb])\n",
        "    return history"
      ]
    },
    {
      "cell_type": "code",
      "execution_count": 22,
      "metadata": {
        "colab": {
          "base_uri": "https://localhost:8080/"
        },
        "id": "8L0NWU4CU-8y",
        "outputId": "7aac9ed5-a81b-46eb-927e-47d80bf3c8b9"
      },
      "outputs": [
        {
          "name": "stdout",
          "output_type": "stream",
          "text": [
            "Epoch 1/50\n",
            "   4/1095 [..............................] - ETA: 2:35 - loss: 2.4640 - accuracy: 0.2679"
          ]
        },
        {
          "name": "stderr",
          "output_type": "stream",
          "text": [
            "<ipython-input-16-0c49e0fe44f8>:11: VisibleDeprecationWarning: Creating an ndarray from ragged nested sequences (which is a list-or-tuple of lists-or-tuples-or ndarrays with different lengths or shapes) is deprecated. If you meant to do this, you must specify 'dtype=object' when creating the ndarray.\n",
            "  X = np.asarray(X)\n",
            "<ipython-input-16-0c49e0fe44f8>:12: VisibleDeprecationWarning: Creating an ndarray from ragged nested sequences (which is a list-or-tuple of lists-or-tuples-or ndarrays with different lengths or shapes) is deprecated. If you meant to do this, you must specify 'dtype=object' when creating the ndarray.\n",
            "  Y = np.asarray(Y)\n"
          ]
        },
        {
          "name": "stdout",
          "output_type": "stream",
          "text": [
            "1095/1095 [==============================] - 188s 158ms/step - loss: 0.7550 - accuracy: 0.7020 - val_loss: 0.2696 - val_accuracy: 0.9032\n",
            "Epoch 2/50\n",
            "  16/1095 [..............................] - ETA: 1:40 - loss: 0.3195 - accuracy: 0.8849"
          ]
        },
        {
          "name": "stderr",
          "output_type": "stream",
          "text": [
            "<ipython-input-16-0c49e0fe44f8>:11: VisibleDeprecationWarning: Creating an ndarray from ragged nested sequences (which is a list-or-tuple of lists-or-tuples-or ndarrays with different lengths or shapes) is deprecated. If you meant to do this, you must specify 'dtype=object' when creating the ndarray.\n",
            "  X = np.asarray(X)\n",
            "<ipython-input-16-0c49e0fe44f8>:12: VisibleDeprecationWarning: Creating an ndarray from ragged nested sequences (which is a list-or-tuple of lists-or-tuples-or ndarrays with different lengths or shapes) is deprecated. If you meant to do this, you must specify 'dtype=object' when creating the ndarray.\n",
            "  Y = np.asarray(Y)\n"
          ]
        },
        {
          "name": "stdout",
          "output_type": "stream",
          "text": [
            "1095/1095 [==============================] - 168s 154ms/step - loss: 0.2504 - accuracy: 0.9064 - val_loss: 0.1766 - val_accuracy: 0.9428\n",
            "Epoch 3/50\n",
            "   3/1095 [..............................] - ETA: 12:23 - loss: 0.2093 - accuracy: 0.9270"
          ]
        },
        {
          "name": "stderr",
          "output_type": "stream",
          "text": [
            "<ipython-input-16-0c49e0fe44f8>:11: VisibleDeprecationWarning: Creating an ndarray from ragged nested sequences (which is a list-or-tuple of lists-or-tuples-or ndarrays with different lengths or shapes) is deprecated. If you meant to do this, you must specify 'dtype=object' when creating the ndarray.\n",
            "  X = np.asarray(X)\n",
            "<ipython-input-16-0c49e0fe44f8>:12: VisibleDeprecationWarning: Creating an ndarray from ragged nested sequences (which is a list-or-tuple of lists-or-tuples-or ndarrays with different lengths or shapes) is deprecated. If you meant to do this, you must specify 'dtype=object' when creating the ndarray.\n",
            "  Y = np.asarray(Y)\n"
          ]
        },
        {
          "name": "stdout",
          "output_type": "stream",
          "text": [
            "1095/1095 [==============================] - 173s 158ms/step - loss: 0.1745 - accuracy: 0.9370 - val_loss: 0.1355 - val_accuracy: 0.9555\n",
            "Epoch 4/50\n",
            "   4/1095 [..............................] - ETA: 1:18 - loss: 0.1519 - accuracy: 0.9470"
          ]
        },
        {
          "name": "stderr",
          "output_type": "stream",
          "text": [
            "<ipython-input-16-0c49e0fe44f8>:11: VisibleDeprecationWarning: Creating an ndarray from ragged nested sequences (which is a list-or-tuple of lists-or-tuples-or ndarrays with different lengths or shapes) is deprecated. If you meant to do this, you must specify 'dtype=object' when creating the ndarray.\n",
            "  X = np.asarray(X)\n",
            "<ipython-input-16-0c49e0fe44f8>:12: VisibleDeprecationWarning: Creating an ndarray from ragged nested sequences (which is a list-or-tuple of lists-or-tuples-or ndarrays with different lengths or shapes) is deprecated. If you meant to do this, you must specify 'dtype=object' when creating the ndarray.\n",
            "  Y = np.asarray(Y)\n"
          ]
        },
        {
          "name": "stdout",
          "output_type": "stream",
          "text": [
            "1095/1095 [==============================] - 174s 159ms/step - loss: 0.1402 - accuracy: 0.9502 - val_loss: 0.1141 - val_accuracy: 0.9638\n",
            "Epoch 5/50\n",
            "   2/1095 [..............................] - ETA: 3:28 - loss: 0.1279 - accuracy: 0.9543"
          ]
        },
        {
          "name": "stderr",
          "output_type": "stream",
          "text": [
            "<ipython-input-16-0c49e0fe44f8>:11: VisibleDeprecationWarning: Creating an ndarray from ragged nested sequences (which is a list-or-tuple of lists-or-tuples-or ndarrays with different lengths or shapes) is deprecated. If you meant to do this, you must specify 'dtype=object' when creating the ndarray.\n",
            "  X = np.asarray(X)\n",
            "<ipython-input-16-0c49e0fe44f8>:12: VisibleDeprecationWarning: Creating an ndarray from ragged nested sequences (which is a list-or-tuple of lists-or-tuples-or ndarrays with different lengths or shapes) is deprecated. If you meant to do this, you must specify 'dtype=object' when creating the ndarray.\n",
            "  Y = np.asarray(Y)\n"
          ]
        },
        {
          "name": "stdout",
          "output_type": "stream",
          "text": [
            "1095/1095 [==============================] - 171s 156ms/step - loss: 0.1213 - accuracy: 0.9575 - val_loss: 0.1041 - val_accuracy: 0.9673\n",
            "Epoch 6/50\n"
          ]
        },
        {
          "name": "stderr",
          "output_type": "stream",
          "text": [
            "<ipython-input-16-0c49e0fe44f8>:11: VisibleDeprecationWarning: Creating an ndarray from ragged nested sequences (which is a list-or-tuple of lists-or-tuples-or ndarrays with different lengths or shapes) is deprecated. If you meant to do this, you must specify 'dtype=object' when creating the ndarray.\n",
            "  X = np.asarray(X)\n",
            "<ipython-input-16-0c49e0fe44f8>:12: VisibleDeprecationWarning: Creating an ndarray from ragged nested sequences (which is a list-or-tuple of lists-or-tuples-or ndarrays with different lengths or shapes) is deprecated. If you meant to do this, you must specify 'dtype=object' when creating the ndarray.\n",
            "  Y = np.asarray(Y)\n"
          ]
        },
        {
          "name": "stdout",
          "output_type": "stream",
          "text": [
            "1095/1095 [==============================] - 171s 156ms/step - loss: 0.1098 - accuracy: 0.9616 - val_loss: 0.0992 - val_accuracy: 0.9695\n",
            "Epoch 7/50\n",
            "   5/1095 [..............................] - ETA: 54s - loss: 0.1105 - accuracy: 0.9604"
          ]
        },
        {
          "name": "stderr",
          "output_type": "stream",
          "text": [
            "<ipython-input-16-0c49e0fe44f8>:11: VisibleDeprecationWarning: Creating an ndarray from ragged nested sequences (which is a list-or-tuple of lists-or-tuples-or ndarrays with different lengths or shapes) is deprecated. If you meant to do this, you must specify 'dtype=object' when creating the ndarray.\n",
            "  X = np.asarray(X)\n",
            "<ipython-input-16-0c49e0fe44f8>:12: VisibleDeprecationWarning: Creating an ndarray from ragged nested sequences (which is a list-or-tuple of lists-or-tuples-or ndarrays with different lengths or shapes) is deprecated. If you meant to do this, you must specify 'dtype=object' when creating the ndarray.\n",
            "  Y = np.asarray(Y)\n"
          ]
        },
        {
          "name": "stdout",
          "output_type": "stream",
          "text": [
            "1095/1095 [==============================] - 172s 157ms/step - loss: 0.1014 - accuracy: 0.9646 - val_loss: 0.0908 - val_accuracy: 0.9720\n",
            "Epoch 8/50\n",
            "   4/1095 [..............................] - ETA: 47s - loss: 0.1009 - accuracy: 0.9663 "
          ]
        },
        {
          "name": "stderr",
          "output_type": "stream",
          "text": [
            "<ipython-input-16-0c49e0fe44f8>:11: VisibleDeprecationWarning: Creating an ndarray from ragged nested sequences (which is a list-or-tuple of lists-or-tuples-or ndarrays with different lengths or shapes) is deprecated. If you meant to do this, you must specify 'dtype=object' when creating the ndarray.\n",
            "  X = np.asarray(X)\n",
            "<ipython-input-16-0c49e0fe44f8>:12: VisibleDeprecationWarning: Creating an ndarray from ragged nested sequences (which is a list-or-tuple of lists-or-tuples-or ndarrays with different lengths or shapes) is deprecated. If you meant to do this, you must specify 'dtype=object' when creating the ndarray.\n",
            "  Y = np.asarray(Y)\n"
          ]
        },
        {
          "name": "stdout",
          "output_type": "stream",
          "text": [
            "1095/1095 [==============================] - 173s 156ms/step - loss: 0.0949 - accuracy: 0.9668 - val_loss: 0.0896 - val_accuracy: 0.9729\n",
            "Epoch 9/50\n",
            "   7/1095 [..............................] - ETA: 1:16 - loss: 0.0876 - accuracy: 0.9676"
          ]
        },
        {
          "name": "stderr",
          "output_type": "stream",
          "text": [
            "<ipython-input-16-0c49e0fe44f8>:11: VisibleDeprecationWarning: Creating an ndarray from ragged nested sequences (which is a list-or-tuple of lists-or-tuples-or ndarrays with different lengths or shapes) is deprecated. If you meant to do this, you must specify 'dtype=object' when creating the ndarray.\n",
            "  X = np.asarray(X)\n",
            "<ipython-input-16-0c49e0fe44f8>:12: VisibleDeprecationWarning: Creating an ndarray from ragged nested sequences (which is a list-or-tuple of lists-or-tuples-or ndarrays with different lengths or shapes) is deprecated. If you meant to do this, you must specify 'dtype=object' when creating the ndarray.\n",
            "  Y = np.asarray(Y)\n"
          ]
        },
        {
          "name": "stdout",
          "output_type": "stream",
          "text": [
            "1095/1095 [==============================] - 167s 153ms/step - loss: 0.0900 - accuracy: 0.9685 - val_loss: 0.0872 - val_accuracy: 0.9741\n",
            "Epoch 10/50\n"
          ]
        },
        {
          "name": "stderr",
          "output_type": "stream",
          "text": [
            "<ipython-input-16-0c49e0fe44f8>:11: VisibleDeprecationWarning: Creating an ndarray from ragged nested sequences (which is a list-or-tuple of lists-or-tuples-or ndarrays with different lengths or shapes) is deprecated. If you meant to do this, you must specify 'dtype=object' when creating the ndarray.\n",
            "  X = np.asarray(X)\n",
            "<ipython-input-16-0c49e0fe44f8>:12: VisibleDeprecationWarning: Creating an ndarray from ragged nested sequences (which is a list-or-tuple of lists-or-tuples-or ndarrays with different lengths or shapes) is deprecated. If you meant to do this, you must specify 'dtype=object' when creating the ndarray.\n",
            "  Y = np.asarray(Y)\n"
          ]
        },
        {
          "name": "stdout",
          "output_type": "stream",
          "text": [
            "1095/1095 [==============================] - 173s 158ms/step - loss: 0.0861 - accuracy: 0.9698 - val_loss: 0.0855 - val_accuracy: 0.9747\n",
            "Epoch 11/50\n",
            "   1/1095 [..............................] - ETA: 1:07 - loss: 0.0975 - accuracy: 0.9586"
          ]
        },
        {
          "name": "stderr",
          "output_type": "stream",
          "text": [
            "<ipython-input-16-0c49e0fe44f8>:11: VisibleDeprecationWarning: Creating an ndarray from ragged nested sequences (which is a list-or-tuple of lists-or-tuples-or ndarrays with different lengths or shapes) is deprecated. If you meant to do this, you must specify 'dtype=object' when creating the ndarray.\n",
            "  X = np.asarray(X)\n",
            "<ipython-input-16-0c49e0fe44f8>:12: VisibleDeprecationWarning: Creating an ndarray from ragged nested sequences (which is a list-or-tuple of lists-or-tuples-or ndarrays with different lengths or shapes) is deprecated. If you meant to do this, you must specify 'dtype=object' when creating the ndarray.\n",
            "  Y = np.asarray(Y)\n"
          ]
        },
        {
          "name": "stdout",
          "output_type": "stream",
          "text": [
            "1095/1095 [==============================] - 169s 154ms/step - loss: 0.0827 - accuracy: 0.9708 - val_loss: 0.0824 - val_accuracy: 0.9757\n",
            "Epoch 12/50\n",
            "   3/1095 [..............................] - ETA: 2:17 - loss: 0.0827 - accuracy: 0.9726"
          ]
        },
        {
          "name": "stderr",
          "output_type": "stream",
          "text": [
            "<ipython-input-16-0c49e0fe44f8>:11: VisibleDeprecationWarning: Creating an ndarray from ragged nested sequences (which is a list-or-tuple of lists-or-tuples-or ndarrays with different lengths or shapes) is deprecated. If you meant to do this, you must specify 'dtype=object' when creating the ndarray.\n",
            "  X = np.asarray(X)\n",
            "<ipython-input-16-0c49e0fe44f8>:12: VisibleDeprecationWarning: Creating an ndarray from ragged nested sequences (which is a list-or-tuple of lists-or-tuples-or ndarrays with different lengths or shapes) is deprecated. If you meant to do this, you must specify 'dtype=object' when creating the ndarray.\n",
            "  Y = np.asarray(Y)\n"
          ]
        },
        {
          "name": "stdout",
          "output_type": "stream",
          "text": [
            "1095/1095 [==============================] - 169s 155ms/step - loss: 0.0794 - accuracy: 0.9719 - val_loss: 0.0817 - val_accuracy: 0.9760\n",
            "Epoch 13/50\n",
            "   3/1095 [..............................] - ETA: 2:13 - loss: 0.0776 - accuracy: 0.9737"
          ]
        },
        {
          "name": "stderr",
          "output_type": "stream",
          "text": [
            "<ipython-input-16-0c49e0fe44f8>:11: VisibleDeprecationWarning: Creating an ndarray from ragged nested sequences (which is a list-or-tuple of lists-or-tuples-or ndarrays with different lengths or shapes) is deprecated. If you meant to do this, you must specify 'dtype=object' when creating the ndarray.\n",
            "  X = np.asarray(X)\n",
            "<ipython-input-16-0c49e0fe44f8>:12: VisibleDeprecationWarning: Creating an ndarray from ragged nested sequences (which is a list-or-tuple of lists-or-tuples-or ndarrays with different lengths or shapes) is deprecated. If you meant to do this, you must specify 'dtype=object' when creating the ndarray.\n",
            "  Y = np.asarray(Y)\n"
          ]
        },
        {
          "name": "stdout",
          "output_type": "stream",
          "text": [
            "1095/1095 [==============================] - 168s 153ms/step - loss: 0.0774 - accuracy: 0.9727 - val_loss: 0.0826 - val_accuracy: 0.9762\n",
            "Epoch 14/50\n",
            "   2/1095 [..............................] - ETA: 4:52 - loss: 0.0724 - accuracy: 0.9745"
          ]
        },
        {
          "name": "stderr",
          "output_type": "stream",
          "text": [
            "<ipython-input-16-0c49e0fe44f8>:11: VisibleDeprecationWarning: Creating an ndarray from ragged nested sequences (which is a list-or-tuple of lists-or-tuples-or ndarrays with different lengths or shapes) is deprecated. If you meant to do this, you must specify 'dtype=object' when creating the ndarray.\n",
            "  X = np.asarray(X)\n",
            "<ipython-input-16-0c49e0fe44f8>:12: VisibleDeprecationWarning: Creating an ndarray from ragged nested sequences (which is a list-or-tuple of lists-or-tuples-or ndarrays with different lengths or shapes) is deprecated. If you meant to do this, you must specify 'dtype=object' when creating the ndarray.\n",
            "  Y = np.asarray(Y)\n"
          ]
        },
        {
          "name": "stdout",
          "output_type": "stream",
          "text": [
            "1095/1095 [==============================] - 170s 155ms/step - loss: 0.0749 - accuracy: 0.9733 - val_loss: 0.0802 - val_accuracy: 0.9767\n",
            "Epoch 15/50\n",
            "   5/1095 [..............................] - ETA: 1:52 - loss: 0.0696 - accuracy: 0.9751"
          ]
        },
        {
          "name": "stderr",
          "output_type": "stream",
          "text": [
            "<ipython-input-16-0c49e0fe44f8>:11: VisibleDeprecationWarning: Creating an ndarray from ragged nested sequences (which is a list-or-tuple of lists-or-tuples-or ndarrays with different lengths or shapes) is deprecated. If you meant to do this, you must specify 'dtype=object' when creating the ndarray.\n",
            "  X = np.asarray(X)\n",
            "<ipython-input-16-0c49e0fe44f8>:12: VisibleDeprecationWarning: Creating an ndarray from ragged nested sequences (which is a list-or-tuple of lists-or-tuples-or ndarrays with different lengths or shapes) is deprecated. If you meant to do this, you must specify 'dtype=object' when creating the ndarray.\n",
            "  Y = np.asarray(Y)\n"
          ]
        },
        {
          "name": "stdout",
          "output_type": "stream",
          "text": [
            "1095/1095 [==============================] - 166s 152ms/step - loss: 0.0730 - accuracy: 0.9739 - val_loss: 0.0785 - val_accuracy: 0.9774\n",
            "Epoch 16/50\n",
            "   2/1095 [..............................] - ETA: 3:55 - loss: 0.0614 - accuracy: 0.9773"
          ]
        },
        {
          "name": "stderr",
          "output_type": "stream",
          "text": [
            "<ipython-input-16-0c49e0fe44f8>:11: VisibleDeprecationWarning: Creating an ndarray from ragged nested sequences (which is a list-or-tuple of lists-or-tuples-or ndarrays with different lengths or shapes) is deprecated. If you meant to do this, you must specify 'dtype=object' when creating the ndarray.\n",
            "  X = np.asarray(X)\n",
            "<ipython-input-16-0c49e0fe44f8>:12: VisibleDeprecationWarning: Creating an ndarray from ragged nested sequences (which is a list-or-tuple of lists-or-tuples-or ndarrays with different lengths or shapes) is deprecated. If you meant to do this, you must specify 'dtype=object' when creating the ndarray.\n",
            "  Y = np.asarray(Y)\n"
          ]
        },
        {
          "name": "stdout",
          "output_type": "stream",
          "text": [
            "1095/1095 [==============================] - 168s 154ms/step - loss: 0.0711 - accuracy: 0.9746 - val_loss: 0.0790 - val_accuracy: 0.9775\n",
            "Epoch 17/50\n"
          ]
        },
        {
          "name": "stderr",
          "output_type": "stream",
          "text": [
            "<ipython-input-16-0c49e0fe44f8>:11: VisibleDeprecationWarning: Creating an ndarray from ragged nested sequences (which is a list-or-tuple of lists-or-tuples-or ndarrays with different lengths or shapes) is deprecated. If you meant to do this, you must specify 'dtype=object' when creating the ndarray.\n",
            "  X = np.asarray(X)\n",
            "<ipython-input-16-0c49e0fe44f8>:12: VisibleDeprecationWarning: Creating an ndarray from ragged nested sequences (which is a list-or-tuple of lists-or-tuples-or ndarrays with different lengths or shapes) is deprecated. If you meant to do this, you must specify 'dtype=object' when creating the ndarray.\n",
            "  Y = np.asarray(Y)\n"
          ]
        },
        {
          "name": "stdout",
          "output_type": "stream",
          "text": [
            "1095/1095 [==============================] - 170s 155ms/step - loss: 0.0696 - accuracy: 0.9750 - val_loss: 0.0792 - val_accuracy: 0.9777\n",
            "Epoch 18/50\n",
            "   9/1095 [..............................] - ETA: 1:33 - loss: 0.0690 - accuracy: 0.9753"
          ]
        },
        {
          "name": "stderr",
          "output_type": "stream",
          "text": [
            "<ipython-input-16-0c49e0fe44f8>:11: VisibleDeprecationWarning: Creating an ndarray from ragged nested sequences (which is a list-or-tuple of lists-or-tuples-or ndarrays with different lengths or shapes) is deprecated. If you meant to do this, you must specify 'dtype=object' when creating the ndarray.\n",
            "  X = np.asarray(X)\n",
            "<ipython-input-16-0c49e0fe44f8>:12: VisibleDeprecationWarning: Creating an ndarray from ragged nested sequences (which is a list-or-tuple of lists-or-tuples-or ndarrays with different lengths or shapes) is deprecated. If you meant to do this, you must specify 'dtype=object' when creating the ndarray.\n",
            "  Y = np.asarray(Y)\n"
          ]
        },
        {
          "name": "stdout",
          "output_type": "stream",
          "text": [
            "1095/1095 [==============================] - 167s 153ms/step - loss: 0.0681 - accuracy: 0.9754 - val_loss: 0.0779 - val_accuracy: 0.9782\n",
            "Epoch 19/50\n"
          ]
        },
        {
          "name": "stderr",
          "output_type": "stream",
          "text": [
            "<ipython-input-16-0c49e0fe44f8>:11: VisibleDeprecationWarning: Creating an ndarray from ragged nested sequences (which is a list-or-tuple of lists-or-tuples-or ndarrays with different lengths or shapes) is deprecated. If you meant to do this, you must specify 'dtype=object' when creating the ndarray.\n",
            "  X = np.asarray(X)\n",
            "<ipython-input-16-0c49e0fe44f8>:12: VisibleDeprecationWarning: Creating an ndarray from ragged nested sequences (which is a list-or-tuple of lists-or-tuples-or ndarrays with different lengths or shapes) is deprecated. If you meant to do this, you must specify 'dtype=object' when creating the ndarray.\n",
            "  Y = np.asarray(Y)\n"
          ]
        },
        {
          "name": "stdout",
          "output_type": "stream",
          "text": [
            "1095/1095 [==============================] - 168s 153ms/step - loss: 0.0667 - accuracy: 0.9759 - val_loss: 0.0781 - val_accuracy: 0.9782\n",
            "Epoch 20/50\n",
            "  12/1095 [..............................] - ETA: 1:26 - loss: 0.0638 - accuracy: 0.9778"
          ]
        },
        {
          "name": "stderr",
          "output_type": "stream",
          "text": [
            "<ipython-input-16-0c49e0fe44f8>:11: VisibleDeprecationWarning: Creating an ndarray from ragged nested sequences (which is a list-or-tuple of lists-or-tuples-or ndarrays with different lengths or shapes) is deprecated. If you meant to do this, you must specify 'dtype=object' when creating the ndarray.\n",
            "  X = np.asarray(X)\n",
            "<ipython-input-16-0c49e0fe44f8>:12: VisibleDeprecationWarning: Creating an ndarray from ragged nested sequences (which is a list-or-tuple of lists-or-tuples-or ndarrays with different lengths or shapes) is deprecated. If you meant to do this, you must specify 'dtype=object' when creating the ndarray.\n",
            "  Y = np.asarray(Y)\n"
          ]
        },
        {
          "name": "stdout",
          "output_type": "stream",
          "text": [
            "1095/1095 [==============================] - 168s 153ms/step - loss: 0.0656 - accuracy: 0.9761 - val_loss: 0.0784 - val_accuracy: 0.9784\n",
            "Epoch 21/50\n",
            "   5/1095 [..............................] - ETA: 1:47 - loss: 0.0628 - accuracy: 0.9761"
          ]
        },
        {
          "name": "stderr",
          "output_type": "stream",
          "text": [
            "<ipython-input-16-0c49e0fe44f8>:11: VisibleDeprecationWarning: Creating an ndarray from ragged nested sequences (which is a list-or-tuple of lists-or-tuples-or ndarrays with different lengths or shapes) is deprecated. If you meant to do this, you must specify 'dtype=object' when creating the ndarray.\n",
            "  X = np.asarray(X)\n",
            "<ipython-input-16-0c49e0fe44f8>:12: VisibleDeprecationWarning: Creating an ndarray from ragged nested sequences (which is a list-or-tuple of lists-or-tuples-or ndarrays with different lengths or shapes) is deprecated. If you meant to do this, you must specify 'dtype=object' when creating the ndarray.\n",
            "  Y = np.asarray(Y)\n"
          ]
        },
        {
          "name": "stdout",
          "output_type": "stream",
          "text": [
            "1095/1095 [==============================] - 170s 155ms/step - loss: 0.0643 - accuracy: 0.9766 - val_loss: 0.0790 - val_accuracy: 0.9783\n",
            "Epoch 22/50\n",
            "   1/1095 [..............................] - ETA: 1:29 - loss: 0.0426 - accuracy: 0.9844"
          ]
        },
        {
          "name": "stderr",
          "output_type": "stream",
          "text": [
            "<ipython-input-16-0c49e0fe44f8>:11: VisibleDeprecationWarning: Creating an ndarray from ragged nested sequences (which is a list-or-tuple of lists-or-tuples-or ndarrays with different lengths or shapes) is deprecated. If you meant to do this, you must specify 'dtype=object' when creating the ndarray.\n",
            "  X = np.asarray(X)\n",
            "<ipython-input-16-0c49e0fe44f8>:12: VisibleDeprecationWarning: Creating an ndarray from ragged nested sequences (which is a list-or-tuple of lists-or-tuples-or ndarrays with different lengths or shapes) is deprecated. If you meant to do this, you must specify 'dtype=object' when creating the ndarray.\n",
            "  Y = np.asarray(Y)\n"
          ]
        },
        {
          "name": "stdout",
          "output_type": "stream",
          "text": [
            "1095/1095 [==============================] - 169s 154ms/step - loss: 0.0632 - accuracy: 0.9769 - val_loss: 0.0785 - val_accuracy: 0.9787\n",
            "Epoch 23/50\n"
          ]
        },
        {
          "name": "stderr",
          "output_type": "stream",
          "text": [
            "<ipython-input-16-0c49e0fe44f8>:11: VisibleDeprecationWarning: Creating an ndarray from ragged nested sequences (which is a list-or-tuple of lists-or-tuples-or ndarrays with different lengths or shapes) is deprecated. If you meant to do this, you must specify 'dtype=object' when creating the ndarray.\n",
            "  X = np.asarray(X)\n",
            "<ipython-input-16-0c49e0fe44f8>:12: VisibleDeprecationWarning: Creating an ndarray from ragged nested sequences (which is a list-or-tuple of lists-or-tuples-or ndarrays with different lengths or shapes) is deprecated. If you meant to do this, you must specify 'dtype=object' when creating the ndarray.\n",
            "  Y = np.asarray(Y)\n"
          ]
        },
        {
          "name": "stdout",
          "output_type": "stream",
          "text": [
            "1095/1095 [==============================] - 173s 156ms/step - loss: 0.0623 - accuracy: 0.9771 - val_loss: 0.0777 - val_accuracy: 0.9790\n",
            "Epoch 24/50\n",
            "   8/1095 [..............................] - ETA: 1:37 - loss: 0.0545 - accuracy: 0.9794"
          ]
        },
        {
          "name": "stderr",
          "output_type": "stream",
          "text": [
            "<ipython-input-16-0c49e0fe44f8>:11: VisibleDeprecationWarning: Creating an ndarray from ragged nested sequences (which is a list-or-tuple of lists-or-tuples-or ndarrays with different lengths or shapes) is deprecated. If you meant to do this, you must specify 'dtype=object' when creating the ndarray.\n",
            "  X = np.asarray(X)\n",
            "<ipython-input-16-0c49e0fe44f8>:12: VisibleDeprecationWarning: Creating an ndarray from ragged nested sequences (which is a list-or-tuple of lists-or-tuples-or ndarrays with different lengths or shapes) is deprecated. If you meant to do this, you must specify 'dtype=object' when creating the ndarray.\n",
            "  Y = np.asarray(Y)\n"
          ]
        },
        {
          "name": "stdout",
          "output_type": "stream",
          "text": [
            "1095/1095 [==============================] - 166s 152ms/step - loss: 0.0611 - accuracy: 0.9775 - val_loss: 0.0783 - val_accuracy: 0.9788\n",
            "Epoch 25/50\n",
            "   5/1095 [..............................] - ETA: 1:20 - loss: 0.0577 - accuracy: 0.9793"
          ]
        },
        {
          "name": "stderr",
          "output_type": "stream",
          "text": [
            "<ipython-input-16-0c49e0fe44f8>:11: VisibleDeprecationWarning: Creating an ndarray from ragged nested sequences (which is a list-or-tuple of lists-or-tuples-or ndarrays with different lengths or shapes) is deprecated. If you meant to do this, you must specify 'dtype=object' when creating the ndarray.\n",
            "  X = np.asarray(X)\n",
            "<ipython-input-16-0c49e0fe44f8>:12: VisibleDeprecationWarning: Creating an ndarray from ragged nested sequences (which is a list-or-tuple of lists-or-tuples-or ndarrays with different lengths or shapes) is deprecated. If you meant to do this, you must specify 'dtype=object' when creating the ndarray.\n",
            "  Y = np.asarray(Y)\n"
          ]
        },
        {
          "name": "stdout",
          "output_type": "stream",
          "text": [
            "1095/1095 [==============================] - 169s 154ms/step - loss: 0.0603 - accuracy: 0.9776 - val_loss: 0.0775 - val_accuracy: 0.9788\n",
            "Epoch 26/50\n",
            "   1/1095 [..............................] - ETA: 1:04 - loss: 0.0499 - accuracy: 0.9831"
          ]
        },
        {
          "name": "stderr",
          "output_type": "stream",
          "text": [
            "<ipython-input-16-0c49e0fe44f8>:11: VisibleDeprecationWarning: Creating an ndarray from ragged nested sequences (which is a list-or-tuple of lists-or-tuples-or ndarrays with different lengths or shapes) is deprecated. If you meant to do this, you must specify 'dtype=object' when creating the ndarray.\n",
            "  X = np.asarray(X)\n",
            "<ipython-input-16-0c49e0fe44f8>:12: VisibleDeprecationWarning: Creating an ndarray from ragged nested sequences (which is a list-or-tuple of lists-or-tuples-or ndarrays with different lengths or shapes) is deprecated. If you meant to do this, you must specify 'dtype=object' when creating the ndarray.\n",
            "  Y = np.asarray(Y)\n"
          ]
        },
        {
          "name": "stdout",
          "output_type": "stream",
          "text": [
            "1095/1095 [==============================] - 174s 159ms/step - loss: 0.0594 - accuracy: 0.9779 - val_loss: 0.0788 - val_accuracy: 0.9790\n",
            "Epoch 27/50\n",
            "   4/1095 [..............................] - ETA: 2:25 - loss: 0.0592 - accuracy: 0.9799"
          ]
        },
        {
          "name": "stderr",
          "output_type": "stream",
          "text": [
            "<ipython-input-16-0c49e0fe44f8>:11: VisibleDeprecationWarning: Creating an ndarray from ragged nested sequences (which is a list-or-tuple of lists-or-tuples-or ndarrays with different lengths or shapes) is deprecated. If you meant to do this, you must specify 'dtype=object' when creating the ndarray.\n",
            "  X = np.asarray(X)\n",
            "<ipython-input-16-0c49e0fe44f8>:12: VisibleDeprecationWarning: Creating an ndarray from ragged nested sequences (which is a list-or-tuple of lists-or-tuples-or ndarrays with different lengths or shapes) is deprecated. If you meant to do this, you must specify 'dtype=object' when creating the ndarray.\n",
            "  Y = np.asarray(Y)\n"
          ]
        },
        {
          "name": "stdout",
          "output_type": "stream",
          "text": [
            "1095/1095 [==============================] - 168s 153ms/step - loss: 0.0587 - accuracy: 0.9782 - val_loss: 0.0778 - val_accuracy: 0.9794\n",
            "Epoch 28/50\n",
            "   2/1095 [..............................] - ETA: 1:14 - loss: 0.0539 - accuracy: 0.9814"
          ]
        },
        {
          "name": "stderr",
          "output_type": "stream",
          "text": [
            "<ipython-input-16-0c49e0fe44f8>:11: VisibleDeprecationWarning: Creating an ndarray from ragged nested sequences (which is a list-or-tuple of lists-or-tuples-or ndarrays with different lengths or shapes) is deprecated. If you meant to do this, you must specify 'dtype=object' when creating the ndarray.\n",
            "  X = np.asarray(X)\n",
            "<ipython-input-16-0c49e0fe44f8>:12: VisibleDeprecationWarning: Creating an ndarray from ragged nested sequences (which is a list-or-tuple of lists-or-tuples-or ndarrays with different lengths or shapes) is deprecated. If you meant to do this, you must specify 'dtype=object' when creating the ndarray.\n",
            "  Y = np.asarray(Y)\n"
          ]
        },
        {
          "name": "stdout",
          "output_type": "stream",
          "text": [
            "1095/1095 [==============================] - 169s 155ms/step - loss: 0.0579 - accuracy: 0.9785 - val_loss: 0.0788 - val_accuracy: 0.9792\n",
            "Epoch 29/50\n"
          ]
        },
        {
          "name": "stderr",
          "output_type": "stream",
          "text": [
            "<ipython-input-16-0c49e0fe44f8>:11: VisibleDeprecationWarning: Creating an ndarray from ragged nested sequences (which is a list-or-tuple of lists-or-tuples-or ndarrays with different lengths or shapes) is deprecated. If you meant to do this, you must specify 'dtype=object' when creating the ndarray.\n",
            "  X = np.asarray(X)\n",
            "<ipython-input-16-0c49e0fe44f8>:12: VisibleDeprecationWarning: Creating an ndarray from ragged nested sequences (which is a list-or-tuple of lists-or-tuples-or ndarrays with different lengths or shapes) is deprecated. If you meant to do this, you must specify 'dtype=object' when creating the ndarray.\n",
            "  Y = np.asarray(Y)\n"
          ]
        },
        {
          "name": "stdout",
          "output_type": "stream",
          "text": [
            "1095/1095 [==============================] - 171s 156ms/step - loss: 0.0574 - accuracy: 0.9785 - val_loss: 0.0790 - val_accuracy: 0.9795\n",
            "Epoch 30/50\n",
            "   1/1095 [..............................] - ETA: 2:04 - loss: 0.0366 - accuracy: 0.9858"
          ]
        },
        {
          "name": "stderr",
          "output_type": "stream",
          "text": [
            "<ipython-input-16-0c49e0fe44f8>:11: VisibleDeprecationWarning: Creating an ndarray from ragged nested sequences (which is a list-or-tuple of lists-or-tuples-or ndarrays with different lengths or shapes) is deprecated. If you meant to do this, you must specify 'dtype=object' when creating the ndarray.\n",
            "  X = np.asarray(X)\n",
            "<ipython-input-16-0c49e0fe44f8>:12: VisibleDeprecationWarning: Creating an ndarray from ragged nested sequences (which is a list-or-tuple of lists-or-tuples-or ndarrays with different lengths or shapes) is deprecated. If you meant to do this, you must specify 'dtype=object' when creating the ndarray.\n",
            "  Y = np.asarray(Y)\n"
          ]
        },
        {
          "name": "stdout",
          "output_type": "stream",
          "text": [
            "1095/1095 [==============================] - 167s 152ms/step - loss: 0.0563 - accuracy: 0.9788 - val_loss: 0.0786 - val_accuracy: 0.9795\n",
            "Epoch 31/50\n",
            "  10/1095 [..............................] - ETA: 1:40 - loss: 0.0535 - accuracy: 0.9803"
          ]
        },
        {
          "name": "stderr",
          "output_type": "stream",
          "text": [
            "<ipython-input-16-0c49e0fe44f8>:11: VisibleDeprecationWarning: Creating an ndarray from ragged nested sequences (which is a list-or-tuple of lists-or-tuples-or ndarrays with different lengths or shapes) is deprecated. If you meant to do this, you must specify 'dtype=object' when creating the ndarray.\n",
            "  X = np.asarray(X)\n",
            "<ipython-input-16-0c49e0fe44f8>:12: VisibleDeprecationWarning: Creating an ndarray from ragged nested sequences (which is a list-or-tuple of lists-or-tuples-or ndarrays with different lengths or shapes) is deprecated. If you meant to do this, you must specify 'dtype=object' when creating the ndarray.\n",
            "  Y = np.asarray(Y)\n"
          ]
        },
        {
          "name": "stdout",
          "output_type": "stream",
          "text": [
            "1095/1095 [==============================] - 166s 152ms/step - loss: 0.0558 - accuracy: 0.9790 - val_loss: 0.0787 - val_accuracy: 0.9792\n",
            "Epoch 32/50\n",
            "   5/1095 [..............................] - ETA: 2:39 - loss: 0.0594 - accuracy: 0.9806"
          ]
        },
        {
          "name": "stderr",
          "output_type": "stream",
          "text": [
            "<ipython-input-16-0c49e0fe44f8>:11: VisibleDeprecationWarning: Creating an ndarray from ragged nested sequences (which is a list-or-tuple of lists-or-tuples-or ndarrays with different lengths or shapes) is deprecated. If you meant to do this, you must specify 'dtype=object' when creating the ndarray.\n",
            "  X = np.asarray(X)\n",
            "<ipython-input-16-0c49e0fe44f8>:12: VisibleDeprecationWarning: Creating an ndarray from ragged nested sequences (which is a list-or-tuple of lists-or-tuples-or ndarrays with different lengths or shapes) is deprecated. If you meant to do this, you must specify 'dtype=object' when creating the ndarray.\n",
            "  Y = np.asarray(Y)\n"
          ]
        },
        {
          "name": "stdout",
          "output_type": "stream",
          "text": [
            "1095/1095 [==============================] - 168s 153ms/step - loss: 0.0552 - accuracy: 0.9792 - val_loss: 0.0775 - val_accuracy: 0.9796\n",
            "Epoch 33/50\n"
          ]
        },
        {
          "name": "stderr",
          "output_type": "stream",
          "text": [
            "<ipython-input-16-0c49e0fe44f8>:11: VisibleDeprecationWarning: Creating an ndarray from ragged nested sequences (which is a list-or-tuple of lists-or-tuples-or ndarrays with different lengths or shapes) is deprecated. If you meant to do this, you must specify 'dtype=object' when creating the ndarray.\n",
            "  X = np.asarray(X)\n",
            "<ipython-input-16-0c49e0fe44f8>:12: VisibleDeprecationWarning: Creating an ndarray from ragged nested sequences (which is a list-or-tuple of lists-or-tuples-or ndarrays with different lengths or shapes) is deprecated. If you meant to do this, you must specify 'dtype=object' when creating the ndarray.\n",
            "  Y = np.asarray(Y)\n"
          ]
        },
        {
          "name": "stdout",
          "output_type": "stream",
          "text": [
            "1095/1095 [==============================] - 168s 153ms/step - loss: 0.0544 - accuracy: 0.9794 - val_loss: 0.0800 - val_accuracy: 0.9796\n",
            "Epoch 34/50\n",
            "   2/1095 [..............................] - ETA: 3:17 - loss: 0.0523 - accuracy: 0.9817"
          ]
        },
        {
          "name": "stderr",
          "output_type": "stream",
          "text": [
            "<ipython-input-16-0c49e0fe44f8>:11: VisibleDeprecationWarning: Creating an ndarray from ragged nested sequences (which is a list-or-tuple of lists-or-tuples-or ndarrays with different lengths or shapes) is deprecated. If you meant to do this, you must specify 'dtype=object' when creating the ndarray.\n",
            "  X = np.asarray(X)\n",
            "<ipython-input-16-0c49e0fe44f8>:12: VisibleDeprecationWarning: Creating an ndarray from ragged nested sequences (which is a list-or-tuple of lists-or-tuples-or ndarrays with different lengths or shapes) is deprecated. If you meant to do this, you must specify 'dtype=object' when creating the ndarray.\n",
            "  Y = np.asarray(Y)\n"
          ]
        },
        {
          "name": "stdout",
          "output_type": "stream",
          "text": [
            "1095/1095 [==============================] - 175s 159ms/step - loss: 0.0541 - accuracy: 0.9795 - val_loss: 0.0782 - val_accuracy: 0.9798\n",
            "Epoch 35/50\n",
            "   5/1095 [..............................] - ETA: 3:46 - loss: 0.0537 - accuracy: 0.9807"
          ]
        },
        {
          "name": "stderr",
          "output_type": "stream",
          "text": [
            "<ipython-input-16-0c49e0fe44f8>:11: VisibleDeprecationWarning: Creating an ndarray from ragged nested sequences (which is a list-or-tuple of lists-or-tuples-or ndarrays with different lengths or shapes) is deprecated. If you meant to do this, you must specify 'dtype=object' when creating the ndarray.\n",
            "  X = np.asarray(X)\n",
            "<ipython-input-16-0c49e0fe44f8>:12: VisibleDeprecationWarning: Creating an ndarray from ragged nested sequences (which is a list-or-tuple of lists-or-tuples-or ndarrays with different lengths or shapes) is deprecated. If you meant to do this, you must specify 'dtype=object' when creating the ndarray.\n",
            "  Y = np.asarray(Y)\n"
          ]
        },
        {
          "name": "stdout",
          "output_type": "stream",
          "text": [
            "1095/1095 [==============================] - 167s 153ms/step - loss: 0.0533 - accuracy: 0.9798 - val_loss: 0.0789 - val_accuracy: 0.9797\n",
            "Epoch 36/50\n",
            "   5/1095 [..............................] - ETA: 1:32 - loss: 0.0586 - accuracy: 0.9787"
          ]
        },
        {
          "name": "stderr",
          "output_type": "stream",
          "text": [
            "<ipython-input-16-0c49e0fe44f8>:11: VisibleDeprecationWarning: Creating an ndarray from ragged nested sequences (which is a list-or-tuple of lists-or-tuples-or ndarrays with different lengths or shapes) is deprecated. If you meant to do this, you must specify 'dtype=object' when creating the ndarray.\n",
            "  X = np.asarray(X)\n",
            "<ipython-input-16-0c49e0fe44f8>:12: VisibleDeprecationWarning: Creating an ndarray from ragged nested sequences (which is a list-or-tuple of lists-or-tuples-or ndarrays with different lengths or shapes) is deprecated. If you meant to do this, you must specify 'dtype=object' when creating the ndarray.\n",
            "  Y = np.asarray(Y)\n"
          ]
        },
        {
          "name": "stdout",
          "output_type": "stream",
          "text": [
            "1095/1095 [==============================] - 168s 153ms/step - loss: 0.0531 - accuracy: 0.9797 - val_loss: 0.0800 - val_accuracy: 0.9795\n",
            "Epoch 37/50\n"
          ]
        },
        {
          "name": "stderr",
          "output_type": "stream",
          "text": [
            "<ipython-input-16-0c49e0fe44f8>:11: VisibleDeprecationWarning: Creating an ndarray from ragged nested sequences (which is a list-or-tuple of lists-or-tuples-or ndarrays with different lengths or shapes) is deprecated. If you meant to do this, you must specify 'dtype=object' when creating the ndarray.\n",
            "  X = np.asarray(X)\n",
            "<ipython-input-16-0c49e0fe44f8>:12: VisibleDeprecationWarning: Creating an ndarray from ragged nested sequences (which is a list-or-tuple of lists-or-tuples-or ndarrays with different lengths or shapes) is deprecated. If you meant to do this, you must specify 'dtype=object' when creating the ndarray.\n",
            "  Y = np.asarray(Y)\n"
          ]
        },
        {
          "name": "stdout",
          "output_type": "stream",
          "text": [
            "1095/1095 [==============================] - 170s 155ms/step - loss: 0.0523 - accuracy: 0.9800 - val_loss: 0.0802 - val_accuracy: 0.9796\n",
            "Epoch 38/50\n",
            "   3/1095 [..............................] - ETA: 51s - loss: 0.0609 - accuracy: 0.9795 "
          ]
        },
        {
          "name": "stderr",
          "output_type": "stream",
          "text": [
            "<ipython-input-16-0c49e0fe44f8>:11: VisibleDeprecationWarning: Creating an ndarray from ragged nested sequences (which is a list-or-tuple of lists-or-tuples-or ndarrays with different lengths or shapes) is deprecated. If you meant to do this, you must specify 'dtype=object' when creating the ndarray.\n",
            "  X = np.asarray(X)\n",
            "<ipython-input-16-0c49e0fe44f8>:12: VisibleDeprecationWarning: Creating an ndarray from ragged nested sequences (which is a list-or-tuple of lists-or-tuples-or ndarrays with different lengths or shapes) is deprecated. If you meant to do this, you must specify 'dtype=object' when creating the ndarray.\n",
            "  Y = np.asarray(Y)\n"
          ]
        },
        {
          "name": "stdout",
          "output_type": "stream",
          "text": [
            "1095/1095 [==============================] - 169s 154ms/step - loss: 0.0517 - accuracy: 0.9802 - val_loss: 0.0819 - val_accuracy: 0.9798\n",
            "Epoch 39/50\n",
            "   5/1095 [..............................] - ETA: 5:07 - loss: 0.0555 - accuracy: 0.9813"
          ]
        },
        {
          "name": "stderr",
          "output_type": "stream",
          "text": [
            "<ipython-input-16-0c49e0fe44f8>:11: VisibleDeprecationWarning: Creating an ndarray from ragged nested sequences (which is a list-or-tuple of lists-or-tuples-or ndarrays with different lengths or shapes) is deprecated. If you meant to do this, you must specify 'dtype=object' when creating the ndarray.\n",
            "  X = np.asarray(X)\n",
            "<ipython-input-16-0c49e0fe44f8>:12: VisibleDeprecationWarning: Creating an ndarray from ragged nested sequences (which is a list-or-tuple of lists-or-tuples-or ndarrays with different lengths or shapes) is deprecated. If you meant to do this, you must specify 'dtype=object' when creating the ndarray.\n",
            "  Y = np.asarray(Y)\n"
          ]
        },
        {
          "name": "stdout",
          "output_type": "stream",
          "text": [
            "1095/1095 [==============================] - 168s 153ms/step - loss: 0.0512 - accuracy: 0.9804 - val_loss: 0.0808 - val_accuracy: 0.9797\n",
            "Epoch 40/50\n",
            "   9/1095 [..............................] - ETA: 51s - loss: 0.0522 - accuracy: 0.9797"
          ]
        },
        {
          "name": "stderr",
          "output_type": "stream",
          "text": [
            "<ipython-input-16-0c49e0fe44f8>:11: VisibleDeprecationWarning: Creating an ndarray from ragged nested sequences (which is a list-or-tuple of lists-or-tuples-or ndarrays with different lengths or shapes) is deprecated. If you meant to do this, you must specify 'dtype=object' when creating the ndarray.\n",
            "  X = np.asarray(X)\n",
            "<ipython-input-16-0c49e0fe44f8>:12: VisibleDeprecationWarning: Creating an ndarray from ragged nested sequences (which is a list-or-tuple of lists-or-tuples-or ndarrays with different lengths or shapes) is deprecated. If you meant to do this, you must specify 'dtype=object' when creating the ndarray.\n",
            "  Y = np.asarray(Y)\n"
          ]
        },
        {
          "name": "stdout",
          "output_type": "stream",
          "text": [
            "1095/1095 [==============================] - 176s 161ms/step - loss: 0.0509 - accuracy: 0.9803 - val_loss: 0.0804 - val_accuracy: 0.9798\n",
            "Epoch 41/50\n",
            "   1/1095 [..............................] - ETA: 2:14 - loss: 0.0477 - accuracy: 0.9823"
          ]
        },
        {
          "name": "stderr",
          "output_type": "stream",
          "text": [
            "<ipython-input-16-0c49e0fe44f8>:11: VisibleDeprecationWarning: Creating an ndarray from ragged nested sequences (which is a list-or-tuple of lists-or-tuples-or ndarrays with different lengths or shapes) is deprecated. If you meant to do this, you must specify 'dtype=object' when creating the ndarray.\n",
            "  X = np.asarray(X)\n",
            "<ipython-input-16-0c49e0fe44f8>:12: VisibleDeprecationWarning: Creating an ndarray from ragged nested sequences (which is a list-or-tuple of lists-or-tuples-or ndarrays with different lengths or shapes) is deprecated. If you meant to do this, you must specify 'dtype=object' when creating the ndarray.\n",
            "  Y = np.asarray(Y)\n"
          ]
        },
        {
          "name": "stdout",
          "output_type": "stream",
          "text": [
            "1095/1095 [==============================] - 170s 155ms/step - loss: 0.0502 - accuracy: 0.9806 - val_loss: 0.0805 - val_accuracy: 0.9800\n",
            "Epoch 42/50\n",
            "   8/1095 [..............................] - ETA: 1:24 - loss: 0.0440 - accuracy: 0.9828"
          ]
        },
        {
          "name": "stderr",
          "output_type": "stream",
          "text": [
            "<ipython-input-16-0c49e0fe44f8>:11: VisibleDeprecationWarning: Creating an ndarray from ragged nested sequences (which is a list-or-tuple of lists-or-tuples-or ndarrays with different lengths or shapes) is deprecated. If you meant to do this, you must specify 'dtype=object' when creating the ndarray.\n",
            "  X = np.asarray(X)\n",
            "<ipython-input-16-0c49e0fe44f8>:12: VisibleDeprecationWarning: Creating an ndarray from ragged nested sequences (which is a list-or-tuple of lists-or-tuples-or ndarrays with different lengths or shapes) is deprecated. If you meant to do this, you must specify 'dtype=object' when creating the ndarray.\n",
            "  Y = np.asarray(Y)\n"
          ]
        },
        {
          "name": "stdout",
          "output_type": "stream",
          "text": [
            "1095/1095 [==============================] - 171s 156ms/step - loss: 0.0501 - accuracy: 0.9806 - val_loss: 0.0806 - val_accuracy: 0.9802\n",
            "Epoch 43/50\n",
            "   9/1095 [..............................] - ETA: 1:15 - loss: 0.0464 - accuracy: 0.9830"
          ]
        },
        {
          "name": "stderr",
          "output_type": "stream",
          "text": [
            "<ipython-input-16-0c49e0fe44f8>:11: VisibleDeprecationWarning: Creating an ndarray from ragged nested sequences (which is a list-or-tuple of lists-or-tuples-or ndarrays with different lengths or shapes) is deprecated. If you meant to do this, you must specify 'dtype=object' when creating the ndarray.\n",
            "  X = np.asarray(X)\n",
            "<ipython-input-16-0c49e0fe44f8>:12: VisibleDeprecationWarning: Creating an ndarray from ragged nested sequences (which is a list-or-tuple of lists-or-tuples-or ndarrays with different lengths or shapes) is deprecated. If you meant to do this, you must specify 'dtype=object' when creating the ndarray.\n",
            "  Y = np.asarray(Y)\n"
          ]
        },
        {
          "name": "stdout",
          "output_type": "stream",
          "text": [
            "1095/1095 [==============================] - 168s 154ms/step - loss: 0.0497 - accuracy: 0.9809 - val_loss: 0.0809 - val_accuracy: 0.9800\n",
            "Epoch 44/50\n",
            "  21/1095 [..............................] - ETA: 1:40 - loss: 0.0454 - accuracy: 0.9835"
          ]
        },
        {
          "name": "stderr",
          "output_type": "stream",
          "text": [
            "<ipython-input-16-0c49e0fe44f8>:11: VisibleDeprecationWarning: Creating an ndarray from ragged nested sequences (which is a list-or-tuple of lists-or-tuples-or ndarrays with different lengths or shapes) is deprecated. If you meant to do this, you must specify 'dtype=object' when creating the ndarray.\n",
            "  X = np.asarray(X)\n",
            "<ipython-input-16-0c49e0fe44f8>:12: VisibleDeprecationWarning: Creating an ndarray from ragged nested sequences (which is a list-or-tuple of lists-or-tuples-or ndarrays with different lengths or shapes) is deprecated. If you meant to do this, you must specify 'dtype=object' when creating the ndarray.\n",
            "  Y = np.asarray(Y)\n"
          ]
        },
        {
          "name": "stdout",
          "output_type": "stream",
          "text": [
            "1095/1095 [==============================] - 172s 157ms/step - loss: 0.0491 - accuracy: 0.9809 - val_loss: 0.0810 - val_accuracy: 0.9800\n",
            "Epoch 45/50\n",
            "  10/1095 [..............................] - ETA: 1:44 - loss: 0.0480 - accuracy: 0.9825"
          ]
        },
        {
          "name": "stderr",
          "output_type": "stream",
          "text": [
            "<ipython-input-16-0c49e0fe44f8>:11: VisibleDeprecationWarning: Creating an ndarray from ragged nested sequences (which is a list-or-tuple of lists-or-tuples-or ndarrays with different lengths or shapes) is deprecated. If you meant to do this, you must specify 'dtype=object' when creating the ndarray.\n",
            "  X = np.asarray(X)\n",
            "<ipython-input-16-0c49e0fe44f8>:12: VisibleDeprecationWarning: Creating an ndarray from ragged nested sequences (which is a list-or-tuple of lists-or-tuples-or ndarrays with different lengths or shapes) is deprecated. If you meant to do this, you must specify 'dtype=object' when creating the ndarray.\n",
            "  Y = np.asarray(Y)\n"
          ]
        },
        {
          "name": "stdout",
          "output_type": "stream",
          "text": [
            "1095/1095 [==============================] - 167s 152ms/step - loss: 0.0488 - accuracy: 0.9811 - val_loss: 0.0823 - val_accuracy: 0.9800\n",
            "Epoch 46/50\n",
            "   4/1095 [..............................] - ETA: 2:35 - loss: 0.0461 - accuracy: 0.9828"
          ]
        },
        {
          "name": "stderr",
          "output_type": "stream",
          "text": [
            "<ipython-input-16-0c49e0fe44f8>:11: VisibleDeprecationWarning: Creating an ndarray from ragged nested sequences (which is a list-or-tuple of lists-or-tuples-or ndarrays with different lengths or shapes) is deprecated. If you meant to do this, you must specify 'dtype=object' when creating the ndarray.\n",
            "  X = np.asarray(X)\n",
            "<ipython-input-16-0c49e0fe44f8>:12: VisibleDeprecationWarning: Creating an ndarray from ragged nested sequences (which is a list-or-tuple of lists-or-tuples-or ndarrays with different lengths or shapes) is deprecated. If you meant to do this, you must specify 'dtype=object' when creating the ndarray.\n",
            "  Y = np.asarray(Y)\n"
          ]
        },
        {
          "name": "stdout",
          "output_type": "stream",
          "text": [
            "1095/1095 [==============================] - 168s 153ms/step - loss: 0.0482 - accuracy: 0.9811 - val_loss: 0.0831 - val_accuracy: 0.9802\n",
            "Epoch 47/50\n",
            "   7/1095 [..............................] - ETA: 1:30 - loss: 0.0429 - accuracy: 0.9843"
          ]
        },
        {
          "name": "stderr",
          "output_type": "stream",
          "text": [
            "<ipython-input-16-0c49e0fe44f8>:11: VisibleDeprecationWarning: Creating an ndarray from ragged nested sequences (which is a list-or-tuple of lists-or-tuples-or ndarrays with different lengths or shapes) is deprecated. If you meant to do this, you must specify 'dtype=object' when creating the ndarray.\n",
            "  X = np.asarray(X)\n",
            "<ipython-input-16-0c49e0fe44f8>:12: VisibleDeprecationWarning: Creating an ndarray from ragged nested sequences (which is a list-or-tuple of lists-or-tuples-or ndarrays with different lengths or shapes) is deprecated. If you meant to do this, you must specify 'dtype=object' when creating the ndarray.\n",
            "  Y = np.asarray(Y)\n"
          ]
        },
        {
          "name": "stdout",
          "output_type": "stream",
          "text": [
            "1095/1095 [==============================] - 172s 157ms/step - loss: 0.0477 - accuracy: 0.9813 - val_loss: 0.0836 - val_accuracy: 0.9801\n",
            "Epoch 48/50\n",
            "  13/1095 [..............................] - ETA: 1:26 - loss: 0.0447 - accuracy: 0.9833"
          ]
        },
        {
          "name": "stderr",
          "output_type": "stream",
          "text": [
            "<ipython-input-16-0c49e0fe44f8>:11: VisibleDeprecationWarning: Creating an ndarray from ragged nested sequences (which is a list-or-tuple of lists-or-tuples-or ndarrays with different lengths or shapes) is deprecated. If you meant to do this, you must specify 'dtype=object' when creating the ndarray.\n",
            "  X = np.asarray(X)\n",
            "<ipython-input-16-0c49e0fe44f8>:12: VisibleDeprecationWarning: Creating an ndarray from ragged nested sequences (which is a list-or-tuple of lists-or-tuples-or ndarrays with different lengths or shapes) is deprecated. If you meant to do this, you must specify 'dtype=object' when creating the ndarray.\n",
            "  Y = np.asarray(Y)\n"
          ]
        },
        {
          "name": "stdout",
          "output_type": "stream",
          "text": [
            "1095/1095 [==============================] - 168s 154ms/step - loss: 0.0476 - accuracy: 0.9814 - val_loss: 0.0835 - val_accuracy: 0.9801\n",
            "Epoch 49/50\n",
            "  11/1095 [..............................] - ETA: 1:12 - loss: 0.0440 - accuracy: 0.9846"
          ]
        },
        {
          "name": "stderr",
          "output_type": "stream",
          "text": [
            "<ipython-input-16-0c49e0fe44f8>:11: VisibleDeprecationWarning: Creating an ndarray from ragged nested sequences (which is a list-or-tuple of lists-or-tuples-or ndarrays with different lengths or shapes) is deprecated. If you meant to do this, you must specify 'dtype=object' when creating the ndarray.\n",
            "  X = np.asarray(X)\n",
            "<ipython-input-16-0c49e0fe44f8>:12: VisibleDeprecationWarning: Creating an ndarray from ragged nested sequences (which is a list-or-tuple of lists-or-tuples-or ndarrays with different lengths or shapes) is deprecated. If you meant to do this, you must specify 'dtype=object' when creating the ndarray.\n",
            "  Y = np.asarray(Y)\n"
          ]
        },
        {
          "name": "stdout",
          "output_type": "stream",
          "text": [
            "1095/1095 [==============================] - 174s 159ms/step - loss: 0.0472 - accuracy: 0.9815 - val_loss: 0.0847 - val_accuracy: 0.9801\n",
            "Epoch 50/50\n",
            "   3/1095 [..............................] - ETA: 1:40 - loss: 0.0400 - accuracy: 0.9862"
          ]
        },
        {
          "name": "stderr",
          "output_type": "stream",
          "text": [
            "<ipython-input-16-0c49e0fe44f8>:11: VisibleDeprecationWarning: Creating an ndarray from ragged nested sequences (which is a list-or-tuple of lists-or-tuples-or ndarrays with different lengths or shapes) is deprecated. If you meant to do this, you must specify 'dtype=object' when creating the ndarray.\n",
            "  X = np.asarray(X)\n",
            "<ipython-input-16-0c49e0fe44f8>:12: VisibleDeprecationWarning: Creating an ndarray from ragged nested sequences (which is a list-or-tuple of lists-or-tuples-or ndarrays with different lengths or shapes) is deprecated. If you meant to do this, you must specify 'dtype=object' when creating the ndarray.\n",
            "  Y = np.asarray(Y)\n"
          ]
        },
        {
          "name": "stdout",
          "output_type": "stream",
          "text": [
            "1095/1095 [==============================] - 172s 157ms/step - loss: 0.0469 - accuracy: 0.9816 - val_loss: 0.0838 - val_accuracy: 0.9803\n",
            "Final Training Accuracy: 0.9815731048583984\n",
            "Final Validation Accuracy: 0.9803093075752258\n",
            "9062.05 seconds\n"
          ]
        }
      ],
      "source": [
        "start_time = time.time()\n",
        "\n",
        "history =fit_model(model, 50, 256, clean_diac_train_data, clean_diac_val_data)\n",
        "end_time = time.time()\n",
        "\n",
        "training_accuracy = history.history['accuracy']\n",
        "validation_accuracy = history.history['val_accuracy']\n",
        "\n",
        "print('Final Training Accuracy:', training_accuracy[-1])\n",
        "print('Final Validation Accuracy:', validation_accuracy[-1])\n",
        "\n",
        "print('%s seconds' % round(end_time - start_time, 2))"
      ]
    },
    {
      "cell_type": "code",
      "execution_count": 23,
      "metadata": {
        "id": "pQx7XGbxUCy6"
      },
      "outputs": [],
      "source": [
        "joblib.dump(model, 'blstm_embeddings.joblib')\n",
        "filename = 'blstm_embeddings.sav'\n",
        "pickle.dump(model, open(filename, 'wb'))"
      ]
    }
  ],
  "metadata": {
    "accelerator": "GPU",
    "colab": {
      "gpuType": "T4",
      "provenance": []
    },
    "kernelspec": {
      "display_name": "Python 3",
      "name": "python3"
    },
    "language_info": {
      "name": "python"
    }
  },
  "nbformat": 4,
  "nbformat_minor": 0
}
