{
  "cells": [
    {
      "cell_type": "code",
      "execution_count": 1,
      "metadata": {
        "colab": {
          "base_uri": "https://localhost:8080/"
        },
        "id": "1V_glxv-sQ7S",
        "outputId": "958bd150-fb66-44c7-8a11-bf21a5749c29"
      },
      "outputs": [
        {
          "name": "stdout",
          "output_type": "stream",
          "text": [
            "Mounted at /content/drive\n"
          ]
        }
      ],
      "source": [
        "from google.colab import drive\n",
        "drive.mount('/content/drive')"
      ]
    },
    {
      "cell_type": "code",
      "execution_count": 2,
      "metadata": {
        "id": "NCPGYLnfsfCt"
      },
      "outputs": [],
      "source": [
        "import re\n",
        "import pickle\n",
        "import numpy as np\n",
        "import time\n",
        "import random\n",
        "import joblib\n",
        "import matplotlib.pyplot as plt\n",
        "\n",
        "from keras.preprocessing.text import Tokenizer\n",
        "from gensim.models import Word2Vec\n",
        "from sklearn.feature_extraction.text import TfidfVectorizer\n",
        "from keras.models import Model\n",
        "from tensorflow.keras.layers import Input\n",
        "from keras.layers import Embedding, Dense, Dropout, LSTM, Bidirectional, TimeDistributed, InputLayer,SimpleRNN\n",
        "from tensorflow.keras.models import Sequential\n",
        "from keras.optimizers import Adam\n",
        "from keras.utils import Sequence\n",
        "from keras.initializers import glorot_normal\n",
        "from keras.callbacks import ModelCheckpoint"
      ]
    },
    {
      "cell_type": "code",
      "execution_count": 3,
      "metadata": {
        "colab": {
          "base_uri": "https://localhost:8080/"
        },
        "id": "wfXJ-UcztpaD",
        "outputId": "2137d6ed-e93b-45e5-fbce-41365e8ebc7c"
      },
      "outputs": [
        {
          "name": "stderr",
          "output_type": "stream",
          "text": [
            "WARNING:tensorflow:From <ipython-input-3-277be1330e1a>:2: is_gpu_available (from tensorflow.python.framework.test_util) is deprecated and will be removed in a future version.\n",
            "Instructions for updating:\n",
            "Use `tf.config.list_physical_devices('GPU')` instead.\n"
          ]
        },
        {
          "name": "stdout",
          "output_type": "stream",
          "text": [
            "GPU available: True\n",
            "GPU device name: /device:GPU:0\n"
          ]
        }
      ],
      "source": [
        "import tensorflow as tf\n",
        "print(\"GPU available:\", tf.test.is_gpu_available())\n",
        "print(\"GPU device name:\", tf.test.gpu_device_name())"
      ]
    },
    {
      "cell_type": "code",
      "execution_count": 4,
      "metadata": {
        "colab": {
          "base_uri": "https://localhost:8080/"
        },
        "id": "40x1iLqltvac",
        "outputId": "b74eb712-77b1-4ca1-de4b-26189487b6fe"
      },
      "outputs": [
        {
          "name": "stdout",
          "output_type": "stream",
          "text": [
            "Training data length: 50000\n",
            "Validation data length: 2500\n"
          ]
        }
      ],
      "source": [
        "with open('/content/drive/My Drive/NLPdata/train.txt','r') as file:\n",
        "    train_data = file.readlines()\n",
        "\n",
        "val_data_raw = None\n",
        "with open('/content/drive/My Drive/NLPdata/val.txt','r') as file:\n",
        "    val_data = file.readlines()\n",
        "print('Training data length:', len(train_data))\n",
        "print('Validation data length:', len(val_data))"
      ]
    },
    {
      "cell_type": "code",
      "execution_count": 5,
      "metadata": {
        "id": "-XwE5IuntvwK"
      },
      "outputs": [],
      "source": [
        "diacritics = ['َ', 'ً', 'ُ', 'ٌ', 'ِ', 'ٍ', 'ْ', 'ّ', 'َّ', 'ًّ', 'ُّ', 'ٌّ', 'ِّ', 'ٍّ', '']\n",
        "\n",
        "arabic_chars = ['ئ', 'ط', 'ه', 'ك', 'ض', 'ج', 'ذ', 'ع', 'ب', 'ل', 'د', 'ت', 'ا', 'ث', 'أ', 'س', 'ق', 'م', 'ش', 'ز', 'غ', 'ى', 'إ', 'خ', 'ن', 'آ', 'ؤ', 'ي', 'ظ', 'ص', 'ح', 'ة', 'و', 'ر', 'ء', 'ف']\n",
        "arabic_chars_space = list(arabic_chars) + [' ']\n",
        "arabic_chars_valid = list(arabic_chars) + [' '] + diacritics\n",
        "\n",
        "# char_mapping = {' ': 0,\n",
        "#     'ا': 1, 'ب': 2, 'ت': 3, 'ث': 4, 'ج': 5, 'ح': 6, 'خ': 7, 'د': 8, 'ذ': 9, 'ر': 10, 'ز': 11, 'س': 12, 'ش': 13, 'ص': 14,\n",
        "#     'ض': 15, 'ط': 16, 'ظ': 17, 'ع': 18, 'غ': 19, 'ف': 20, 'ق': 21, 'ك': 22, 'ل': 23, 'م': 24, 'ن': 25, 'ه': 26, 'و': 27,\n",
        "#     'ى': 28, 'ي': 29,'ء': 30, 'آ': 31, 'أ': 32, 'ؤ': 33, 'إ': 34, 'ئ': 35,'ة': 36,\n",
        "#     '٠': 37, '١': 38, '٢': 39, '٣': 40, '٤': 41, '٥': 42, '٦': 43, '٧': 44, '٨': 45, '٩': 46,\n",
        "#     '0': 47, '1': 48, '2': 49, '3': 50, '4': 51, '5': 52, '6': 53,'7': 54, '8': 55, '9': 56,\n",
        "#     '<pad>': 57, '<s>': 58, '</s>': 59\n",
        "# }\n",
        "\n",
        "char_mapping = {' ': 0,\n",
        "    'ا': 1, 'ب': 2, 'ت': 3, 'ث': 4, 'ج': 5, 'ح': 6, 'خ': 7, 'د': 8, 'ذ': 9, 'ر': 10, 'ز': 11, 'س': 12, 'ش': 13, 'ص': 14,\n",
        "    'ض': 15, 'ط': 16, 'ظ': 17, 'ع': 18, 'غ': 19, 'ف': 20, 'ق': 21, 'ك': 22, 'ل': 23, 'م': 24, 'ن': 25, 'ه': 26, 'و': 27,\n",
        "    'ى': 28, 'ي': 29,'ء': 30, 'آ': 31, 'أ': 32, 'ؤ': 33, 'إ': 34, 'ئ': 35,'ة': 36,\n",
        "    '٠': 37, '١': 38, '٢': 39, '٣': 40, '٤': 41, '٥': 42, '٦': 43, '٧': 44, '٨': 45, '٩': 46,\n",
        "    '0': 47, '1': 48, '2': 49, '3': 50, '4': 51, '5': 52, '6': 53,'7': 54, '8': 55, '9': 56,\n",
        "    '<pad>': 57, '<s>': 58, '</s>': 59,\n",
        "   '.':60,',':61,'،': 62,':':63,';':64,'؛':65,'(':66,')':67,'[': 68,']':69,'{': 70,'}': 71,'«': 72,'»': 73,'-': 74, '!': 75, '?': 76,'؟': 77,\n",
        "    '\\n': 78, '\"': 79, '&': 80, \"'\": 81, '*': 82, '+': 83, '/': 84, '=': 85,  '_': 86, '`': 87, '~': 88,'\\u200d': 89, '\\u200f': 90, '–': 91,\n",
        "    '’': 92, '“': 93, '…': 94, '﴾': 95, '﴿': 96\n",
        "}\n",
        "\n",
        "class_mapping = {'َ': 0, 'ً': 1, 'ُ': 2, 'ٌ': 3, 'ِ': 4, 'ٍ': 5, 'ْ': 6, 'ّ': 7, 'َّ': 8, 'ًّ':\n",
        "9, 'ُّ': 10, 'ٌّ': 11, 'ِّ': 12, 'ٍّ': 13, '': 14}\n",
        "\n",
        "reverse_class_mapping = {0:'َ', 1:'ً', 2:'ُ', 3:'ٌ', 4:'ِ', 5:'ٍ', 6:'ْ',7:'ّ',8: 'َّ',9: 'ًّ',10: 'ُّ',11: 'ٌّ',12: 'ِّ',13: 'ٍّ',14: ''}\n",
        "\n",
        "\n",
        "punctionations_splitting ={'.':'.\\n',',':',\\n','،': '،\\n',':':':\\n',';':';\\n','؛':'؛\\n','(':'\\n(',')':')\\n',\n",
        "                           '[': '\\n[',']':']\\n','{': '\\n{','}': '}\\n','«': '\\n«','»': '»\\n',\n",
        "                           '-': '-\\n', '!': '!\\n', '?': '?\\n', '؟': '؟\\n',}"
      ]
    },
    {
      "cell_type": "code",
      "execution_count": 6,
      "metadata": {
        "colab": {
          "base_uri": "https://localhost:8080/"
        },
        "id": "cSGjfNqsufow",
        "outputId": "0e8c6a14-5dee-40f8-dcd3-4ca85ffeb823"
      },
      "outputs": [
        {
          "name": "stdout",
          "output_type": "stream",
          "text": [
            "قوله : ( أو قطع الأول يده إلخ ) قال الزركشي\n"
          ]
        }
      ],
      "source": [
        "def remove_diacritics(data):\n",
        "    return data.translate(str.maketrans('', '', ''.join(diacritics)))\n",
        "\n",
        "test_str = 'قَوْلُهُ : ( أَوْ قَطَعَ الْأَوَّلُ يَدَهُ إلَخْ ) قَالَ الزَّرْكَشِيُّ'\n",
        "print(remove_diacritics(test_str))\n"
      ]
    },
    {
      "cell_type": "code",
      "execution_count": 7,
      "metadata": {
        "colab": {
          "base_uri": "https://localhost:8080/"
        },
        "id": "vndJkMMtusfV",
        "outputId": "2bd9040c-4aa7-4f63-e277-0f9baa78c366"
      },
      "outputs": [
        {
          "name": "stdout",
          "output_type": "stream",
          "text": [
            "[[1, 0, 0, 0], [0, 1, 0, 0], [0, 0, 1, 0], [0, 0, 0, 1]]\n"
          ]
        }
      ],
      "source": [
        "def one_hot_matrix(data, size):\n",
        "    one_hot_matrix = [[1 if j == i else 0 for j in range(size)] for i in data]\n",
        "    return one_hot_matrix\n",
        "\n",
        "test = [0,1,2,3]\n",
        "print(one_hot_matrix(test, 4))"
      ]
    },
    {
      "cell_type": "code",
      "execution_count": 8,
      "metadata": {
        "colab": {
          "base_uri": "https://localhost:8080/"
        },
        "id": "xh7FrHSIusiN",
        "outputId": "7c590390-34db-41b2-9802-5a1071bf0c08"
      },
      "outputs": [
        {
          "data": {
            "text/plain": [
              "[0, 1, 0, 0, 0]"
            ]
          },
          "execution_count": 8,
          "metadata": {},
          "output_type": "execute_result"
        }
      ],
      "source": [
        "def one_hot_vector(index , size):\n",
        "    one_hot_vector = [1 if j == index else 0 for j in range(size)]\n",
        "    return one_hot_vector\n",
        "\n",
        "one_hot_vector(1,5)"
      ]
    },
    {
      "cell_type": "code",
      "execution_count": 9,
      "metadata": {
        "id": "20NPdg4Jusk9"
      },
      "outputs": [],
      "source": [
        "def split_using_punctuation(data):\n",
        "\n",
        "  splitted_data = list()\n",
        "\n",
        "  for sentence in data:\n",
        "        for punc in punctionations_splitting:\n",
        "          sentence = sentence.replace(punc, punctionations_splitting[punc])\n",
        "        splitted_data += sentence.split('\\n')\n",
        "\n",
        "  return splitted_data\n",
        "\n",
        "# print(split_using_punctuation(train_data[0:2]))"
      ]
    },
    {
      "cell_type": "code",
      "execution_count": 10,
      "metadata": {
        "id": "AXXCgm2Rusoh"
      },
      "outputs": [],
      "source": [
        "def split_on_length(data):\n",
        "\n",
        "    max_len = 500\n",
        "\n",
        "    splitted_data = list()\n",
        "\n",
        "    for sentence in data:\n",
        "\n",
        "       new_sentence = remove_diacritics(sentence).strip()\n",
        "\n",
        "       if len(new_sentence) != 0:\n",
        "\n",
        "          if len(new_sentence) > 0 and len(new_sentence) <= max_len:\n",
        "                  splitted_data.append(sentence.strip())\n",
        "\n",
        "          else:\n",
        "            sentence_words = sentence.split()\n",
        "            temp_sentence = ''\n",
        "\n",
        "            for word in sentence_words:\n",
        "\n",
        "\n",
        "              # if we add the word, it will exceed length, so don't add this word and take the sentence\n",
        "              if len(remove_diacritics(temp_sentence).strip()) + len(remove_diacritics(word).strip()) + 1 > max_len:\n",
        "                  if len(remove_diacritics(temp_sentence).strip()) > 0:\n",
        "                      splitted_data.append(temp_sentence.strip())\n",
        "\n",
        "                  # make a new sentence\n",
        "                  temp_sentence = word\n",
        "\n",
        "              else:\n",
        "                  # it will not exceed, add the word to the sentence\n",
        "                  temp_sentence = word if temp_sentence == '' else temp_sentence + ' ' + word\n",
        "\n",
        "            if len(remove_diacritics(temp_sentence).strip()) > 0:\n",
        "                  splitted_data.append(temp_sentence.strip())\n",
        "\n",
        "    return splitted_data"
      ]
    },
    {
      "cell_type": "code",
      "execution_count": 11,
      "metadata": {
        "colab": {
          "base_uri": "https://localhost:8080/"
        },
        "id": "Y_tYb1WMus81",
        "outputId": "b9e1328d-32c1-4044-9a08-da2cd7fd27d4"
      },
      "outputs": [
        {
          "name": "stdout",
          "output_type": "stream",
          "text": [
            "Training data length: 305772\n",
            "Validation data length: 15701\n",
            "['قَوْلُهُ :', '( أَوْ قَطَعَ الْأَوَّلُ يَدَهُ إلَخْ )', 'قَالَ الزَّرْكَشِيُّ', '( 14 / 123 )', 'ابْنُ عَرَفَةَ :']\n"
          ]
        }
      ],
      "source": [
        "split_punctuation_train_data = split_using_punctuation(train_data)\n",
        "split_length_train_data      = split_on_length(split_punctuation_train_data)\n",
        "\n",
        "split_punctuation_val_data = split_using_punctuation(val_data)\n",
        "split_length_val_data      = split_on_length(split_punctuation_val_data)\n",
        "\n",
        "\n",
        "print('Training data length:', len(split_length_train_data))\n",
        "print('Validation data length:', len(split_length_val_data))\n",
        "\n",
        "print(split_length_train_data[0:5])"
      ]
    },
    {
      "cell_type": "code",
      "execution_count": 12,
      "metadata": {
        "colab": {
          "base_uri": "https://localhost:8080/"
        },
        "id": "c1oJP26F6zUs",
        "outputId": "64e6d88b-7338-49d5-a93f-cfb284df9667"
      },
      "outputs": [
        {
          "name": "stdout",
          "output_type": "stream",
          "text": [
            "Training data max: 500\n",
            "Validation data max: 500\n",
            "Training data min: 1\n",
            "Validation data min: 1\n"
          ]
        }
      ],
      "source": [
        "print('Training data max:', max(len(remove_diacritics(item).strip()) for item in split_length_train_data))\n",
        "print('Validation data max:', max(len(remove_diacritics(item).strip()) for item in split_length_val_data))\n",
        "\n",
        "print('Training data min:', min(len(remove_diacritics(item).strip()) for item in split_length_train_data))\n",
        "print('Validation data min:', min(len(remove_diacritics(item).strip()) for item in split_length_val_data))"
      ]
    },
    {
      "cell_type": "code",
      "execution_count": 13,
      "metadata": {
        "colab": {
          "base_uri": "https://localhost:8080/"
        },
        "id": "EzmpvsrQ7FX8",
        "outputId": "0b43fbbd-981e-48fa-ef0f-ffc81a328cc7"
      },
      "outputs": [
        {
          "name": "stdout",
          "output_type": "stream",
          "text": [
            "Training data length: 280228\n",
            "Validation data length: 14385\n",
            "['قَوْلُهُ', 'أَوْ قَطَعَ الْأَوَّلُ يَدَهُ إلَخْ', 'قَالَ الزَّرْكَشِيُّ', 'ابْنُ عَرَفَةَ', 'قَوْلُهُ']\n"
          ]
        }
      ],
      "source": [
        "# list of short sentences -> with diarictic & without punc or numbers\n",
        "clean_diac_train_data = [(''.join(char for char in text if char in arabic_chars_valid)).strip() for text in split_length_train_data]\n",
        "clean_diac_val_data = [(''.join(char for char in text if char in arabic_chars_valid)).strip() for text in split_length_val_data]\n",
        "\n",
        "clean_diac_train_data = [item for item in clean_diac_train_data if item != \"\"]\n",
        "clean_diac_val_data = [item for item in clean_diac_val_data if item != \"\"]\n",
        "\n",
        "print('Training data length:', len(clean_diac_train_data))\n",
        "print('Validation data length:', len(clean_diac_val_data))\n",
        "\n",
        "print(clean_diac_train_data[0:5])"
      ]
    },
    {
      "cell_type": "code",
      "execution_count": 14,
      "metadata": {
        "colab": {
          "base_uri": "https://localhost:8080/"
        },
        "id": "i8P_CYiS7FhM",
        "outputId": "6a91bb1f-4f11-4c20-b9ac-2529c5cf6674"
      },
      "outputs": [
        {
          "name": "stdout",
          "output_type": "stream",
          "text": [
            "Training data length: 280228\n",
            "Validation data length: 14385\n",
            "['قوله', 'أو قطع الأول يده إلخ', 'قال الزركشي', 'ابن عرفة', 'قوله']\n"
          ]
        }
      ],
      "source": [
        "# list of short sentences -> without diarictic & without punc or numbers\n",
        "\n",
        "clean_train_data = [remove_diacritics(text) for text in clean_diac_train_data]\n",
        "clean_val_data = [remove_diacritics(text) for text in clean_diac_val_data]\n",
        "\n",
        "print('Training data length:', len(clean_train_data))\n",
        "print('Validation data length:', len(clean_val_data))\n",
        "\n",
        "print(clean_train_data[0:5])"
      ]
    },
    {
      "cell_type": "code",
      "execution_count": 15,
      "metadata": {
        "id": "VsQRnTjW9u97"
      },
      "outputs": [],
      "source": [
        "def get_sentence_classes(sentence):\n",
        "\n",
        "  x = []\n",
        "  y = []\n",
        "\n",
        "  x.append(one_hot_vector(char_mapping['<s>'],len(char_mapping)))\n",
        "  y.append(one_hot_vector(class_mapping[''],len(class_mapping)))\n",
        "\n",
        "  for index, char in enumerate(sentence):\n",
        "\n",
        "    if char not in diacritics: # arabic char or space\n",
        "\n",
        "      x.append(one_hot_vector(char_mapping[char],len(char_mapping)))\n",
        "\n",
        "      char_diacritic = ''\n",
        "      sentence_len = len(sentence)\n",
        "\n",
        "      if index + 1 < sentence_len:\n",
        "        if sentence[index + 1] in diacritics:\n",
        "          char_diacritic = sentence[index + 1]\n",
        "          if index + 2 < sentence_len:\n",
        "             char_diacritic = char_diacritic + sentence[index + 2] if sentence[index + 2] in diacritics and (char_diacritic + sentence[index + 2] in class_mapping) else sentence[index + 2] + char_diacritic if sentence[index + 2] in diacritics and (sentence[index + 2] + char_diacritic in class_mapping) else char_diacritic\n",
        "\n",
        "      y.append(one_hot_vector(class_mapping[char_diacritic],len(class_mapping)))\n",
        "\n",
        "  x.append(one_hot_vector(char_mapping['</s>'],len(char_mapping)))\n",
        "  y.append(one_hot_vector(class_mapping[''],len(class_mapping)))\n",
        "\n",
        "  assert(len(x) == len(y))\n",
        "\n",
        "  return x, y"
      ]
    },
    {
      "cell_type": "code",
      "execution_count": 15,
      "metadata": {
        "id": "dkXD5DW8dcaf"
      },
      "outputs": [],
      "source": []
    },
    {
      "cell_type": "code",
      "execution_count": 16,
      "metadata": {
        "id": "8JiiRaP69vE8"
      },
      "outputs": [],
      "source": [
        "def get_classes(data):\n",
        "\n",
        "  X = []\n",
        "  Y = []\n",
        "\n",
        "  for sentence in data:\n",
        "    x, y = get_sentence_classes(sentence)\n",
        "    X.append(x)\n",
        "    Y.append(y)\n",
        "\n",
        "  X = np.asarray(X)\n",
        "  Y = np.asarray(Y)\n",
        "\n",
        "  return X, Y"
      ]
    },
    {
      "cell_type": "code",
      "execution_count": 17,
      "metadata": {
        "colab": {
          "base_uri": "https://localhost:8080/"
        },
        "id": "HoD49_mQFR_4",
        "outputId": "00731039-da1b-4550-9e9b-68caf086a9ec"
      },
      "outputs": [
        {
          "name": "stdout",
          "output_type": "stream",
          "text": [
            "['قَوْلُهُ', 'أَوْ قَطَعَ الْأَوَّلُ يَدَهُ إلَخْ', 'قَالَ الزَّرْكَشِيُّ', 'ابْنُ عَرَفَةَ', 'قَوْلُهُ']\n",
            "(5,)\n",
            "(5,)\n",
            "6\n",
            "6\n"
          ]
        },
        {
          "name": "stderr",
          "output_type": "stream",
          "text": [
            "<ipython-input-16-0c49e0fe44f8>:11: VisibleDeprecationWarning: Creating an ndarray from ragged nested sequences (which is a list-or-tuple of lists-or-tuples-or ndarrays with different lengths or shapes) is deprecated. If you meant to do this, you must specify 'dtype=object' when creating the ndarray.\n",
            "  X = np.asarray(X)\n",
            "<ipython-input-16-0c49e0fe44f8>:12: VisibleDeprecationWarning: Creating an ndarray from ragged nested sequences (which is a list-or-tuple of lists-or-tuples-or ndarrays with different lengths or shapes) is deprecated. If you meant to do this, you must specify 'dtype=object' when creating the ndarray.\n",
            "  Y = np.asarray(Y)\n"
          ]
        }
      ],
      "source": [
        "print(clean_diac_train_data[0:5])\n",
        "\n",
        "X,Y = get_classes(clean_diac_train_data[0:5])\n",
        "\n",
        "print(X.shape)\n",
        "print(Y.shape)\n",
        "print(len(X[0]))\n",
        "print(len(Y[0]))"
      ]
    },
    {
      "cell_type": "code",
      "execution_count": 18,
      "metadata": {
        "id": "a3uKzrFn7FqL"
      },
      "outputs": [],
      "source": [
        "class custom_data_generator(Sequence):\n",
        "\n",
        "    def __init__(self, data, batch_size):\n",
        "        self.data = data\n",
        "        self.batch_size = batch_size\n",
        "        # self.vec_len = 391\n",
        "\n",
        "    def __len__(self):\n",
        "        return int(np.ceil(len(self.data) / float(self.batch_size)))\n",
        "\n",
        "    def __getitem__(self, index):\n",
        "\n",
        "        start_index = index * self.batch_size\n",
        "        end_index = (index + 1) * self.batch_size\n",
        "\n",
        "        batch = self.data[start_index : end_index]\n",
        "        X_batch, Y_batch = get_classes(batch)\n",
        "\n",
        "        max_length_X = np.max([len(x) for x in X_batch])\n",
        "        max_length_Y = np.max([len(y) for y in Y_batch])\n",
        "\n",
        "        assert(max_length_X == max_length_Y)\n",
        "\n",
        "        X = []\n",
        "        for x in X_batch:\n",
        "          padding_length = max_length_X - len(x)\n",
        "          x = list(x)\n",
        "          x.extend([one_hot_vector(char_mapping['<pad>'],len(char_mapping))] * (padding_length))\n",
        "          X.append(np.asarray(x))\n",
        "\n",
        "        Y = []\n",
        "        for y in Y_batch:\n",
        "          padding_length = max_length_Y - len(y)\n",
        "          y = list(y)\n",
        "          y.extend([one_hot_vector(class_mapping[''],len(class_mapping))] * (padding_length))\n",
        "          Y.append(np.asarray(y))\n",
        "\n",
        "        X, Y = np.asarray(X), np.asarray(Y)\n",
        "\n",
        "        # print('===================================> X:', X.shape)\n",
        "        # print('===================================> Y:', Y.shape)\n",
        "\n",
        "        return X, Y"
      ]
    },
    {
      "cell_type": "code",
      "execution_count": 19,
      "metadata": {
        "id": "QJcefM6QSFRa"
      },
      "outputs": [],
      "source": [
        "def build_model():\n",
        "\n",
        "   model = Sequential()\n",
        "   model.add(InputLayer(input_shape=(None, len(char_mapping))))\n",
        "   model.add(SimpleRNN(units=256,return_sequences=True,kernel_initializer=glorot_normal(seed=500)))\n",
        "   model.add(Dropout(0.5))\n",
        "   model.add(SimpleRNN(units=256,return_sequences=True,kernel_initializer=glorot_normal(seed=500)))\n",
        "   model.add(Dropout(0.5))\n",
        "   model.add(SimpleRNN(units=256,return_sequences=True,kernel_initializer=glorot_normal(seed=500)))\n",
        "   model.add(TimeDistributed(Dense(units=512,activation='relu',kernel_initializer=glorot_normal(seed=500))))\n",
        "   model.add(TimeDistributed(Dense(units=512,activation='relu',kernel_initializer=glorot_normal(seed=500))))\n",
        "   model.add(TimeDistributed(Dense(units=len(class_mapping),activation='softmax',kernel_initializer=glorot_normal(seed=500))))\n",
        "   model.compile(loss='categorical_crossentropy', optimizer=Adam(), metrics=['accuracy'])\n",
        "   return model"
      ]
    },
    {
      "cell_type": "code",
      "execution_count": 20,
      "metadata": {
        "colab": {
          "base_uri": "https://localhost:8080/"
        },
        "id": "QKdOlRTsUvfN",
        "outputId": "36c0f95e-175d-46f3-b88a-a7d802bcd7f4"
      },
      "outputs": [
        {
          "name": "stdout",
          "output_type": "stream",
          "text": [
            "Model: \"sequential\"\n",
            "_________________________________________________________________\n",
            " Layer (type)                Output Shape              Param #   \n",
            "=================================================================\n",
            " simple_rnn (SimpleRNN)      (None, None, 256)         90624     \n",
            "                                                                 \n",
            " dropout (Dropout)           (None, None, 256)         0         \n",
            "                                                                 \n",
            " simple_rnn_1 (SimpleRNN)    (None, None, 256)         131328    \n",
            "                                                                 \n",
            " dropout_1 (Dropout)         (None, None, 256)         0         \n",
            "                                                                 \n",
            " simple_rnn_2 (SimpleRNN)    (None, None, 256)         131328    \n",
            "                                                                 \n",
            " time_distributed (TimeDist  (None, None, 512)         131584    \n",
            " ributed)                                                        \n",
            "                                                                 \n",
            " time_distributed_1 (TimeDi  (None, None, 512)         262656    \n",
            " stributed)                                                      \n",
            "                                                                 \n",
            " time_distributed_2 (TimeDi  (None, None, 15)          7695      \n",
            " stributed)                                                      \n",
            "                                                                 \n",
            "=================================================================\n",
            "Total params: 755215 (2.88 MB)\n",
            "Trainable params: 755215 (2.88 MB)\n",
            "Non-trainable params: 0 (0.00 Byte)\n",
            "_________________________________________________________________\n"
          ]
        }
      ],
      "source": [
        "model = build_model()\n",
        "model.summary()"
      ]
    },
    {
      "cell_type": "code",
      "execution_count": 21,
      "metadata": {
        "id": "znC0M3mTU-cz"
      },
      "outputs": [],
      "source": [
        "def fit_model(model, epochs, batch_size, train_data, val_data):\n",
        "\n",
        "    random.shuffle(train_data)\n",
        "    random.shuffle(val_data)\n",
        "\n",
        "    train_data = list(sorted(train_data, key=lambda item: len(remove_diacritics(item))))\n",
        "    val_data   = list(sorted(val_data,   key=lambda item: len(remove_diacritics(item))))\n",
        "\n",
        "    checkpoint_path = '/content/drive/My Drive/NLPdata/checkpoints/epoch{epoch:02d}.ckpt'\n",
        "    checkpoint_cb = ModelCheckpoint(checkpoint_path, verbose=0)\n",
        "\n",
        "    training_generator = custom_data_generator(train_data, batch_size)\n",
        "    val_generator = custom_data_generator(val_data, batch_size)\n",
        "\n",
        "    history =  model.fit(training_generator,validation_data=val_generator,epochs=epochs,callbacks=[checkpoint_cb])\n",
        "    return history"
      ]
    },
    {
      "cell_type": "code",
      "execution_count": 21,
      "metadata": {
        "id": "maKStlSlH8LU"
      },
      "outputs": [],
      "source": []
    },
    {
      "cell_type": "code",
      "execution_count": 22,
      "metadata": {
        "colab": {
          "base_uri": "https://localhost:8080/"
        },
        "id": "8L0NWU4CU-8y",
        "outputId": "7375b9e8-9aab-4b31-d4d8-52a8e01ebf01"
      },
      "outputs": [
        {
          "name": "stdout",
          "output_type": "stream",
          "text": [
            "Epoch 1/5\n",
            "  11/1095 [..............................] - ETA: 3:53 - loss: 1.8914 - accuracy: 0.3710"
          ]
        },
        {
          "name": "stderr",
          "output_type": "stream",
          "text": [
            "<ipython-input-16-0c49e0fe44f8>:11: VisibleDeprecationWarning: Creating an ndarray from ragged nested sequences (which is a list-or-tuple of lists-or-tuples-or ndarrays with different lengths or shapes) is deprecated. If you meant to do this, you must specify 'dtype=object' when creating the ndarray.\n",
            "  X = np.asarray(X)\n",
            "<ipython-input-16-0c49e0fe44f8>:12: VisibleDeprecationWarning: Creating an ndarray from ragged nested sequences (which is a list-or-tuple of lists-or-tuples-or ndarrays with different lengths or shapes) is deprecated. If you meant to do this, you must specify 'dtype=object' when creating the ndarray.\n",
            "  Y = np.asarray(Y)\n"
          ]
        },
        {
          "name": "stdout",
          "output_type": "stream",
          "text": [
            "1095/1095 [==============================] - 483s 431ms/step - loss: 0.6470 - accuracy: 0.7409 - val_loss: 0.4606 - val_accuracy: 0.8236\n",
            "Epoch 2/5\n"
          ]
        },
        {
          "name": "stderr",
          "output_type": "stream",
          "text": [
            "<ipython-input-16-0c49e0fe44f8>:11: VisibleDeprecationWarning: Creating an ndarray from ragged nested sequences (which is a list-or-tuple of lists-or-tuples-or ndarrays with different lengths or shapes) is deprecated. If you meant to do this, you must specify 'dtype=object' when creating the ndarray.\n",
            "  X = np.asarray(X)\n",
            "<ipython-input-16-0c49e0fe44f8>:12: VisibleDeprecationWarning: Creating an ndarray from ragged nested sequences (which is a list-or-tuple of lists-or-tuples-or ndarrays with different lengths or shapes) is deprecated. If you meant to do this, you must specify 'dtype=object' when creating the ndarray.\n",
            "  Y = np.asarray(Y)\n"
          ]
        },
        {
          "name": "stdout",
          "output_type": "stream",
          "text": [
            "1095/1095 [==============================] - 481s 439ms/step - loss: 0.4685 - accuracy: 0.8095 - val_loss: 0.4101 - val_accuracy: 0.8439\n",
            "Epoch 3/5\n",
            "   2/1095 [..............................] - ETA: 7:56 - loss: 0.4956 - accuracy: 0.8125 "
          ]
        },
        {
          "name": "stderr",
          "output_type": "stream",
          "text": [
            "<ipython-input-16-0c49e0fe44f8>:11: VisibleDeprecationWarning: Creating an ndarray from ragged nested sequences (which is a list-or-tuple of lists-or-tuples-or ndarrays with different lengths or shapes) is deprecated. If you meant to do this, you must specify 'dtype=object' when creating the ndarray.\n",
            "  X = np.asarray(X)\n",
            "<ipython-input-16-0c49e0fe44f8>:12: VisibleDeprecationWarning: Creating an ndarray from ragged nested sequences (which is a list-or-tuple of lists-or-tuples-or ndarrays with different lengths or shapes) is deprecated. If you meant to do this, you must specify 'dtype=object' when creating the ndarray.\n",
            "  Y = np.asarray(Y)\n"
          ]
        },
        {
          "name": "stdout",
          "output_type": "stream",
          "text": [
            "1095/1095 [==============================] - 466s 425ms/step - loss: 0.4301 - accuracy: 0.8250 - val_loss: 0.3954 - val_accuracy: 0.8495\n",
            "Epoch 4/5\n",
            "   5/1095 [..............................] - ETA: 4:47 - loss: 0.3237 - accuracy: 0.8410"
          ]
        },
        {
          "name": "stderr",
          "output_type": "stream",
          "text": [
            "<ipython-input-16-0c49e0fe44f8>:11: VisibleDeprecationWarning: Creating an ndarray from ragged nested sequences (which is a list-or-tuple of lists-or-tuples-or ndarrays with different lengths or shapes) is deprecated. If you meant to do this, you must specify 'dtype=object' when creating the ndarray.\n",
            "  X = np.asarray(X)\n",
            "<ipython-input-16-0c49e0fe44f8>:12: VisibleDeprecationWarning: Creating an ndarray from ragged nested sequences (which is a list-or-tuple of lists-or-tuples-or ndarrays with different lengths or shapes) is deprecated. If you meant to do this, you must specify 'dtype=object' when creating the ndarray.\n",
            "  Y = np.asarray(Y)\n"
          ]
        },
        {
          "name": "stdout",
          "output_type": "stream",
          "text": [
            "1095/1095 [==============================] - 462s 422ms/step - loss: 0.4112 - accuracy: 0.8324 - val_loss: 0.3791 - val_accuracy: 0.8559\n",
            "Epoch 5/5\n",
            "   2/1095 [..............................] - ETA: 6:36 - loss: 0.2949 - accuracy: 0.8537"
          ]
        },
        {
          "name": "stderr",
          "output_type": "stream",
          "text": [
            "<ipython-input-16-0c49e0fe44f8>:11: VisibleDeprecationWarning: Creating an ndarray from ragged nested sequences (which is a list-or-tuple of lists-or-tuples-or ndarrays with different lengths or shapes) is deprecated. If you meant to do this, you must specify 'dtype=object' when creating the ndarray.\n",
            "  X = np.asarray(X)\n",
            "<ipython-input-16-0c49e0fe44f8>:12: VisibleDeprecationWarning: Creating an ndarray from ragged nested sequences (which is a list-or-tuple of lists-or-tuples-or ndarrays with different lengths or shapes) is deprecated. If you meant to do this, you must specify 'dtype=object' when creating the ndarray.\n",
            "  Y = np.asarray(Y)\n"
          ]
        },
        {
          "name": "stdout",
          "output_type": "stream",
          "text": [
            "1095/1095 [==============================] - 431s 394ms/step - loss: 0.3992 - accuracy: 0.8369 - val_loss: 0.3728 - val_accuracy: 0.8581\n",
            "Final Training Accuracy: 0.8369303345680237\n",
            "Final Validation Accuracy: 0.8580808043479919\n",
            "2336.98 seconds\n"
          ]
        }
      ],
      "source": [
        "start_time = time.time()\n",
        "\n",
        "history =fit_model(model, 5, 256, clean_diac_train_data, clean_diac_val_data)\n",
        "end_time = time.time()\n",
        "\n",
        "training_accuracy = history.history['accuracy']\n",
        "validation_accuracy = history.history['val_accuracy']\n",
        "\n",
        "print('Final Training Accuracy:', training_accuracy[-1])\n",
        "print('Final Validation Accuracy:', validation_accuracy[-1])\n",
        "\n",
        "print('%s seconds' % round(end_time - start_time, 2))"
      ]
    },
    {
      "cell_type": "code",
      "execution_count": 23,
      "metadata": {
        "id": "gMNmXMqZaIED"
      },
      "outputs": [],
      "source": [
        "joblib.dump(model, 'rnn_oneHot.joblib')\n",
        "filename = 'rnn_oneHot.sav'\n",
        "pickle.dump(model, open(filename, 'wb'))"
      ]
    }
  ],
  "metadata": {
    "accelerator": "GPU",
    "colab": {
      "gpuType": "T4",
      "provenance": []
    },
    "kernelspec": {
      "display_name": "Python 3",
      "name": "python3"
    },
    "language_info": {
      "name": "python"
    }
  },
  "nbformat": 4,
  "nbformat_minor": 0
}
